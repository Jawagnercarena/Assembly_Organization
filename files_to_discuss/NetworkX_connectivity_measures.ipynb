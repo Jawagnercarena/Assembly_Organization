{
  "cells": [
    {
      "cell_type": "markdown",
      "metadata": {
        "id": "ZjweaPr1LtEk"
      },
      "source": [
        "# Using NetworkX for connectivity metrics\n",
        "\n"
      ]
    },
    {
      "cell_type": "code",
      "execution_count": 1,
      "metadata": {
        "id": "qVIoPW6UK3rG"
      },
      "outputs": [],
      "source": [
        "%%capture\n",
        "# Install dotmotif with one line.\n",
        "# On your own computer, you can run this in the terminal.\n",
        "!pip3 install dotmotif networkx\n",
        "import numpy as np\n",
        "import networkx as nx\n",
        "from dotmotif import Motif, GrandIsoExecutor\n",
        "import pandas\n",
        "from tqdm import tqdm\n",
        "import pickle\n",
        "import matplotlib.pyplot as plt\n",
        "from scipy.stats import ranksums\n",
        "import statsmodels.stats.multitest as smm\n",
        "\n"
      ]
    },
    {
      "cell_type": "code",
      "execution_count": 2,
      "metadata": {
        "colab": {
          "base_uri": "https://localhost:8080/"
        },
        "id": "KtIEqGR-3tWJ",
        "outputId": "1dc69d1c-b5ab-4a38-eb25-9bffa99b0f00"
      },
      "outputs": [
        {
          "name": "stdout",
          "output_type": "stream",
          "text": [
            "Filtering to 10 cells per type\n",
            "Generating Connectome...\n"
          ]
        },
        {
          "name": "stderr",
          "output_type": "stream",
          "text": [
            "100%|██████████| 132646/132646 [03:54<00:00, 565.31it/s]\n"
          ]
        },
        {
          "name": "stdout",
          "output_type": "stream",
          "text": [
            "Generating Connectome...\n"
          ]
        },
        {
          "name": "stderr",
          "output_type": "stream",
          "text": [
            "100%|██████████| 132646/132646 [04:13<00:00, 523.04it/s]\n"
          ]
        },
        {
          "name": "stdout",
          "output_type": "stream",
          "text": [
            "     index      id          pt_root_id  pt_position_x  pt_position_y  \\\n",
            "0        9  293764  864691132625300120         878665         697702   \n",
            "1       41  295576  864691132710501931         842193         737122   \n",
            "2       62  278405  864691132830575876         737898         601710   \n",
            "3       85  307952  864691132999200949         867646         840563   \n",
            "4       93  366542  864691132834421640         923130         760946   \n",
            "..     ...     ...                 ...            ...            ...   \n",
            "812   8764  371302  864691132849454803         958050         629957   \n",
            "813   8769  385115  864691132679146333         975354         850418   \n",
            "814   8773  383491  864691132763271347         928872         797418   \n",
            "815   8790  351167  864691132579592205         927863         548865   \n",
            "816   8794  277788  864691132653866455         853833         547235   \n",
            "\n",
            "     pt_position_z classification_system cell_type status_axon  \\\n",
            "0           245475            excitatory        4P    extended   \n",
            "1           325260            inhibitory    ProxTC    extended   \n",
            "2           294075            inhibitory    DistTC    extended   \n",
            "3           262935            excitatory        5P    extended   \n",
            "4           173250            inhibitory    DistTC    extended   \n",
            "..             ...                   ...       ...         ...   \n",
            "812         382545            inhibitory    ProxTC    extended   \n",
            "813         394650            excitatory        6P    extended   \n",
            "814         316125            excitatory        5P    extended   \n",
            "815         192105            inhibitory    ProxTC    extended   \n",
            "816         263385            excitatory        3P    extended   \n",
            "\n",
            "     pt_position_x_trafo  ...       dist_pia      dist_1-23      dist_23-4  \\\n",
            "0          -17654.153169  ...  348299.261582  248299.261582   78299.261582   \n",
            "1          -67856.489452  ...  407818.941194  307818.941194  137818.941194   \n",
            "2         -145995.980100  ...  269521.726886  169521.726886     478.273114   \n",
            "3          -69027.465946  ...  490673.563262  390673.563262  220673.563262   \n",
            "4           17492.220187  ...  389679.613276  289679.613276  119679.613276   \n",
            "..                   ...  ...            ...            ...            ...   \n",
            "812         67043.559779  ...  319323.746587  219323.746587   49323.746587   \n",
            "813         17544.597851  ...  534890.730711  434890.730711  264890.730711   \n",
            "814          3578.299784  ...  463037.004450  363037.004450  193037.004450   \n",
            "815         51726.443534  ...  190364.527692   90364.527692   79635.472308   \n",
            "816        -23541.351541  ...  208243.082354  108243.082354   61756.917646   \n",
            "\n",
            "          dist_4-5       dist_5-6        dist_WM  full_dendrite  cell_type_v2  \\\n",
            "0     51700.738418  201700.738418  401700.738418           True            4P   \n",
            "1      7818.941194  142181.058806  342181.058806           True     ProxTC-L5   \n",
            "2    130478.273114  280478.273114  480478.273114           True    DistTC-L23   \n",
            "3     90673.563262   59326.436738  259326.436738           True            5P   \n",
            "4     10320.386724  160320.386724  360320.386724          False     DistTC-L4   \n",
            "..             ...            ...            ...            ...           ...   \n",
            "812   80676.253413  230676.253413  430676.253413           True     ProxTC-L4   \n",
            "813  134890.730711   15109.269289  215109.269289           True            6P   \n",
            "814   63037.004450   86962.995550  286962.995550           True            5P   \n",
            "815  209635.472308  359635.472308  559635.472308          False    ProxTC-L23   \n",
            "816  191756.917646  341756.917646  541756.917646          False            3P   \n",
            "\n",
            "     connectome_index               pt_position  \n",
            "0                   0  [878665, 697702, 245475]  \n",
            "1                   1  [842193, 737122, 325260]  \n",
            "2                   2  [737898, 601710, 294075]  \n",
            "3                   3  [867646, 840563, 262935]  \n",
            "4                   4  [923130, 760946, 173250]  \n",
            "..                ...                       ...  \n",
            "812               812  [958050, 629957, 382545]  \n",
            "813               813  [975354, 850418, 394650]  \n",
            "814               814  [928872, 797418, 316125]  \n",
            "815               815  [927863, 548865, 192105]  \n",
            "816               816  [853833, 547235, 263385]  \n",
            "\n",
            "[817 rows x 23 columns]\n",
            "     index      id          pt_root_id  pt_position_x  pt_position_y  \\\n",
            "0        9  293764  864691132625300120         878665         697702   \n",
            "1       41  295576  864691132710501931         842193         737122   \n",
            "2       62  278405  864691132830575876         737898         601710   \n",
            "3       85  307952  864691132999200949         867646         840563   \n",
            "4       93  366542  864691132834421640         923130         760946   \n",
            "..     ...     ...                 ...            ...            ...   \n",
            "812   8764  371302  864691132849454803         958050         629957   \n",
            "813   8769  385115  864691132679146333         975354         850418   \n",
            "814   8773  383491  864691132763271347         928872         797418   \n",
            "815   8790  351167  864691132579592205         927863         548865   \n",
            "816   8794  277788  864691132653866455         853833         547235   \n",
            "\n",
            "     pt_position_z classification_system cell_type status_axon  \\\n",
            "0           245475            excitatory        4P    extended   \n",
            "1           325260            inhibitory    ProxTC    extended   \n",
            "2           294075            inhibitory    DistTC    extended   \n",
            "3           262935            excitatory        5P    extended   \n",
            "4           173250            inhibitory    DistTC    extended   \n",
            "..             ...                   ...       ...         ...   \n",
            "812         382545            inhibitory    ProxTC    extended   \n",
            "813         394650            excitatory        6P    extended   \n",
            "814         316125            excitatory        5P    extended   \n",
            "815         192105            inhibitory    ProxTC    extended   \n",
            "816         263385            excitatory        3P    extended   \n",
            "\n",
            "     pt_position_x_trafo  ...       dist_pia      dist_1-23      dist_23-4  \\\n",
            "0          -17654.153169  ...  348299.261582  248299.261582   78299.261582   \n",
            "1          -67856.489452  ...  407818.941194  307818.941194  137818.941194   \n",
            "2         -145995.980100  ...  269521.726886  169521.726886     478.273114   \n",
            "3          -69027.465946  ...  490673.563262  390673.563262  220673.563262   \n",
            "4           17492.220187  ...  389679.613276  289679.613276  119679.613276   \n",
            "..                   ...  ...            ...            ...            ...   \n",
            "812         67043.559779  ...  319323.746587  219323.746587   49323.746587   \n",
            "813         17544.597851  ...  534890.730711  434890.730711  264890.730711   \n",
            "814          3578.299784  ...  463037.004450  363037.004450  193037.004450   \n",
            "815         51726.443534  ...  190364.527692   90364.527692   79635.472308   \n",
            "816        -23541.351541  ...  208243.082354  108243.082354   61756.917646   \n",
            "\n",
            "          dist_4-5       dist_5-6        dist_WM  full_dendrite  cell_type_v2  \\\n",
            "0     51700.738418  201700.738418  401700.738418           True            4P   \n",
            "1      7818.941194  142181.058806  342181.058806           True     ProxTC-L5   \n",
            "2    130478.273114  280478.273114  480478.273114           True    DistTC-L23   \n",
            "3     90673.563262   59326.436738  259326.436738           True            5P   \n",
            "4     10320.386724  160320.386724  360320.386724          False     DistTC-L4   \n",
            "..             ...            ...            ...            ...           ...   \n",
            "812   80676.253413  230676.253413  430676.253413           True     ProxTC-L4   \n",
            "813  134890.730711   15109.269289  215109.269289           True            6P   \n",
            "814   63037.004450   86962.995550  286962.995550           True            5P   \n",
            "815  209635.472308  359635.472308  559635.472308          False    ProxTC-L23   \n",
            "816  191756.917646  341756.917646  541756.917646          False            3P   \n",
            "\n",
            "     connectome_index               pt_position  \n",
            "0                   0  [878665, 697702, 245475]  \n",
            "1                   1  [842193, 737122, 325260]  \n",
            "2                   2  [737898, 601710, 294075]  \n",
            "3                   3  [867646, 840563, 262935]  \n",
            "4                   4  [923130, 760946, 173250]  \n",
            "..                ...                       ...  \n",
            "812               812  [958050, 629957, 382545]  \n",
            "813               813  [975354, 850418, 394650]  \n",
            "814               814  [928872, 797418, 316125]  \n",
            "815               815  [927863, 548865, 192105]  \n",
            "816               816  [853833, 547235, 263385]  \n",
            "\n",
            "[817 rows x 23 columns]\n",
            "               id      pre_pt_root_id     post_pt_root_id  pt_position_x  \\\n",
            "0       436055868  864691132786109590  864691132834616200       880624.2   \n",
            "1       408548453  864691132862626797  864691132669252909       829272.4   \n",
            "2       488224854  864691132719308787  864691132658062711       946215.6   \n",
            "3       443055914  864691132930586344  864691132710459649       866471.9   \n",
            "4       436942082  864691132930586344  864691132710459649       871574.1   \n",
            "...           ...                 ...                 ...            ...   \n",
            "132641  419266844  864691132772499069  864691132719232755       859827.4   \n",
            "132642  409440131  864691133070175177  864691132849077459       840747.5   \n",
            "132643  478179055  864691132729807744  864691132719232755       937728.1   \n",
            "132644  533199500  864691132807552514  864691132803126118      1013902.2   \n",
            "132645  486933618  864691132729807744  864691132719232755       954596.4   \n",
            "\n",
            "        pt_position_y  pt_position_z  size  pt_position_x_trafo  \\\n",
            "0            557720.9       223020.0   276          3340.583116   \n",
            "1            550562.3       258570.0   537        -48250.119643   \n",
            "2            713638.7       283860.0  1056         44270.154023   \n",
            "3            920588.2       373950.0   269       -119327.920431   \n",
            "4            909084.0       361980.0   510       -107774.055379   \n",
            "...               ...            ...   ...                  ...   \n",
            "132641       738499.8       371160.0   452        -53500.991472   \n",
            "132642       605231.5       246285.0   855        -41825.350705   \n",
            "132643       737316.4       327645.0  1453         27594.594993   \n",
            "132644       748723.6       288900.0  1710        103739.657587   \n",
            "132645       722785.8       334800.0  1048         47342.609751   \n",
            "\n",
            "        pt_position_y_trafo  pt_position_z_trafo  \\\n",
            "0             212017.398504        -42633.912889   \n",
            "1             214934.217395         -6060.653512   \n",
            "2             380604.148771        -19380.664885   \n",
            "3             623175.163572        -15290.301397   \n",
            "4             607310.494324        -21665.072135   \n",
            "...                     ...                  ...   \n",
            "132641        429763.417621         56431.681242   \n",
            "132642        264781.496171        -28013.062838   \n",
            "132643        416189.841024         15305.215351   \n",
            "132644        416437.175574        -25035.896752   \n",
            "132645        403662.235048         26516.613783   \n",
            "\n",
            "                                          ctr_pt_position  \n",
            "0       [3340.5831162707323, 212017.39850379777, -4263...  \n",
            "1       [-48250.11964345754, 214934.21739500464, -6060...  \n",
            "2       [44270.15402258008, 380604.14877074107, -19380...  \n",
            "3       [-119327.92043110261, 623175.1635720987, -1529...  \n",
            "4       [-107774.05537912386, 607310.4943239368, -2166...  \n",
            "...                                                   ...  \n",
            "132641  [-53500.99147219691, 429763.41762082605, 56431...  \n",
            "132642  [-41825.3507050108, 264781.4961708535, -28013....  \n",
            "132643  [27594.59499325647, 416189.84102367156, 15305....  \n",
            "132644  [103739.65758734028, 416437.1755735607, -25035...  \n",
            "132645  [47342.60975145605, 403662.2350479938, 26516.6...  \n",
            "\n",
            "[132646 rows x 11 columns]\n"
          ]
        }
      ],
      "source": [
        "\n",
        "from lsmm_data import LSMMData\n",
        "import json\n",
        "\n",
        "with open('v1dd_data_structures_information.json') as f:\n",
        "    loaded_json = json.load(f)\n",
        "my_data = LSMMData.LSMMData(loaded_json)\n",
        "tables = my_data.data\n",
        "params = my_data.params\n",
        "dirs = my_data.dirs\n",
        "mappings = my_data.mappings\n",
        " \n",
        "print(tables['structural']['pre_cell'])\n",
        "print(tables['structural']['post_cell'])\n",
        "print(tables['structural']['synapse'])\n",
        " \n",
        "pt_root_id = tables['structural']['pre_cell'].iloc[1]['pt_root_id']"
      ]
    },
    {
      "cell_type": "code",
      "execution_count": 4,
      "metadata": {
        "id": "CrHNEGub4uOY"
      },
      "outputs": [],
      "source": [
        "'''def calc_ground_truth(pre_cells, synapse, post_cells, use_sizes=False):\n",
        "    pre_cell_pt_index = pre_cells['pt_root_id']\n",
        "    post_cell_pt_index = post_cells['pt_root_id']\n",
        "    synapses = synapse[(synapse['pre_pt_root_id'].isin(pre_cells['pt_root_id'])) & (synapse['post_pt_root_id'].isin(post_cells['pt_root_id']))]\n",
        "    pre_cell_pt_index = pre_cell_pt_index.to_list()\n",
        "    post_cell_pt_index = post_cell_pt_index.to_list()\n",
        "\n",
        "    synapse_connectome = np.zeros((len(pre_cells), len(post_cells)))\n",
        "    for synapse in tqdm(range(len(synapses))):\n",
        "        preidx = pre_cell_pt_index.index(synapses.iloc[synapse]['pre_pt_root_id'])\n",
        "        postidx = post_cell_pt_index.index(synapses.iloc[synapse]['post_pt_root_id'])\n",
        "        if use_sizes:\n",
        "            synapse_connectome[preidx,postidx] += synapses.iloc[synapse]['size']\n",
        "        else:\n",
        "            synapse_connectome[preidx,postidx] += 1\n",
        "    return synapse_connectome'''"
      ]
    },
    {
      "cell_type": "code",
      "execution_count": 10,
      "metadata": {
        "colab": {
          "base_uri": "https://localhost:8080/",
          "height": 460
        },
        "id": "sDTiLqdI6NUE",
        "outputId": "3459386b-7846-430b-ecab-e217fb0d08b8"
      },
      "outputs": [],
      "source": [
        "cell_table = tables['structural']['pre_cell']\n",
        "\n",
        "weight_matrix = tables['structural']['summed_size_connectome']\n",
        "\n",
        "\n",
        "adjacency_matrix = weight_matrix.clip(0,1)\n",
        "#np.fill_diagonal(adjacency_matrix, 0)\n",
        "all_to_all_graph = nx.from_numpy_array(adjacency_matrix, create_using=nx.DiGraph)"
      ]
    },
    {
      "cell_type": "code",
      "execution_count": 11,
      "metadata": {},
      "outputs": [
        {
          "data": {
            "text/plain": [
              "array([[0., 0., 0., ..., 0., 0., 0.],\n",
              "       [0., 0., 0., ..., 0., 0., 0.],\n",
              "       [0., 0., 0., ..., 0., 0., 1.],\n",
              "       ...,\n",
              "       [0., 0., 0., ..., 0., 0., 0.],\n",
              "       [0., 0., 0., ..., 1., 0., 0.],\n",
              "       [0., 0., 0., ..., 0., 0., 0.]])"
            ]
          },
          "execution_count": 11,
          "metadata": {},
          "output_type": "execute_result"
        }
      ],
      "source": [
        "test = nx.to_numpy_array(all_to_all_graph)\n",
        "test"
      ]
    },
    {
      "cell_type": "code",
      "execution_count": 12,
      "metadata": {},
      "outputs": [
        {
          "data": {
            "text/plain": [
              "0.0"
            ]
          },
          "execution_count": 12,
          "metadata": {},
          "output_type": "execute_result"
        }
      ],
      "source": [
        "np.mean(adjacency_matrix - test)"
      ]
    },
    {
      "cell_type": "markdown",
      "metadata": {
        "id": "_qDRQDK6I2Ei"
      },
      "source": [
        "#**NETWORKX METRICS CHECK**"
      ]
    },
    {
      "cell_type": "code",
      "execution_count": 13,
      "metadata": {
        "colab": {
          "base_uri": "https://localhost:8080/"
        },
        "id": "KdusH1y8gCXl",
        "outputId": "00b255fd-037c-4d7f-ecf0-8086091b8be9"
      },
      "outputs": [
        {
          "ename": "NetworkXError",
          "evalue": "Graph is not strongly connected.",
          "output_type": "error",
          "traceback": [
            "\u001b[1;31m---------------------------------------------------------------------------\u001b[0m",
            "\u001b[1;31mNetworkXError\u001b[0m                             Traceback (most recent call last)",
            "Cell \u001b[1;32mIn[13], line 4\u001b[0m\n\u001b[0;32m      1\u001b[0m \u001b[38;5;66;03m# Calculate metrics\u001b[39;00m\n\u001b[0;32m      2\u001b[0m CC \u001b[38;5;241m=\u001b[39m nx\u001b[38;5;241m.\u001b[39maverage_clustering(all_to_all_graph)  \u001b[38;5;66;03m# clustering coefficient\u001b[39;00m\n\u001b[1;32m----> 4\u001b[0m L \u001b[38;5;241m=\u001b[39m \u001b[43mnx\u001b[49m\u001b[38;5;241;43m.\u001b[39;49m\u001b[43maverage_shortest_path_length\u001b[49m\u001b[43m(\u001b[49m\u001b[43mall_to_all_graph\u001b[49m\u001b[43m)\u001b[49m  \u001b[38;5;66;03m# Average shortest path length\u001b[39;00m\n\u001b[0;32m      6\u001b[0m \u001b[38;5;66;03m# Generate a random graph with the same number of nodes and edges\u001b[39;00m\n\u001b[0;32m      7\u001b[0m G_rand \u001b[38;5;241m=\u001b[39m nx\u001b[38;5;241m.\u001b[39mgnm_random_graph(all_to_all_graph\u001b[38;5;241m.\u001b[39mnumber_of_nodes(), all_to_all_graph\u001b[38;5;241m.\u001b[39mnumber_of_edges(), directed\u001b[38;5;241m=\u001b[39m\u001b[38;5;28;01mTrue\u001b[39;00m)\n",
            "File \u001b[1;32mc:\\Users\\saika\\anaconda3\\lib\\site-packages\\networkx\\utils\\backends.py:412\u001b[0m, in \u001b[0;36m_dispatch.__call__\u001b[1;34m(self, backend, *args, **kwargs)\u001b[0m\n\u001b[0;32m    409\u001b[0m \u001b[38;5;28;01mdef\u001b[39;00m \u001b[38;5;21m__call__\u001b[39m(\u001b[38;5;28mself\u001b[39m, \u001b[38;5;241m/\u001b[39m, \u001b[38;5;241m*\u001b[39margs, backend\u001b[38;5;241m=\u001b[39m\u001b[38;5;28;01mNone\u001b[39;00m, \u001b[38;5;241m*\u001b[39m\u001b[38;5;241m*\u001b[39mkwargs):\n\u001b[0;32m    410\u001b[0m     \u001b[38;5;28;01mif\u001b[39;00m \u001b[38;5;129;01mnot\u001b[39;00m backends:\n\u001b[0;32m    411\u001b[0m         \u001b[38;5;66;03m# Fast path if no backends are installed\u001b[39;00m\n\u001b[1;32m--> 412\u001b[0m         \u001b[38;5;28;01mreturn\u001b[39;00m \u001b[38;5;28mself\u001b[39m\u001b[38;5;241m.\u001b[39morig_func(\u001b[38;5;241m*\u001b[39margs, \u001b[38;5;241m*\u001b[39m\u001b[38;5;241m*\u001b[39mkwargs)\n\u001b[0;32m    414\u001b[0m     \u001b[38;5;66;03m# Use `backend_name` in this function instead of `backend`\u001b[39;00m\n\u001b[0;32m    415\u001b[0m     backend_name \u001b[38;5;241m=\u001b[39m backend\n",
            "File \u001b[1;32mc:\\Users\\saika\\anaconda3\\lib\\site-packages\\networkx\\algorithms\\shortest_paths\\generic.py:416\u001b[0m, in \u001b[0;36maverage_shortest_path_length\u001b[1;34m(G, weight, method)\u001b[0m\n\u001b[0;32m    414\u001b[0m \u001b[38;5;66;03m# Shortest path length is undefined if the graph is not strongly connected.\u001b[39;00m\n\u001b[0;32m    415\u001b[0m \u001b[38;5;28;01mif\u001b[39;00m G\u001b[38;5;241m.\u001b[39mis_directed() \u001b[38;5;129;01mand\u001b[39;00m \u001b[38;5;129;01mnot\u001b[39;00m nx\u001b[38;5;241m.\u001b[39mis_strongly_connected(G):\n\u001b[1;32m--> 416\u001b[0m     \u001b[38;5;28;01mraise\u001b[39;00m nx\u001b[38;5;241m.\u001b[39mNetworkXError(\u001b[38;5;124m\"\u001b[39m\u001b[38;5;124mGraph is not strongly connected.\u001b[39m\u001b[38;5;124m\"\u001b[39m)\n\u001b[0;32m    417\u001b[0m \u001b[38;5;66;03m# Shortest path length is undefined if the graph is not connected.\u001b[39;00m\n\u001b[0;32m    418\u001b[0m \u001b[38;5;28;01mif\u001b[39;00m \u001b[38;5;129;01mnot\u001b[39;00m G\u001b[38;5;241m.\u001b[39mis_directed() \u001b[38;5;129;01mand\u001b[39;00m \u001b[38;5;129;01mnot\u001b[39;00m nx\u001b[38;5;241m.\u001b[39mis_connected(G):\n",
            "\u001b[1;31mNetworkXError\u001b[0m: Graph is not strongly connected."
          ]
        }
      ],
      "source": [
        "# Calculate metrics\n",
        "CC = nx.average_clustering(all_to_all_graph)  # clustering coefficient\n",
        "\n",
        "L = nx.average_shortest_path_length(all_to_all_graph)  # Average shortest path length\n",
        "\n",
        "# Generate a random graph with the same number of nodes and edges\n",
        "G_rand = nx.gnm_random_graph(all_to_all_graph.number_of_nodes(), all_to_all_graph.number_of_edges(), directed=True)\n",
        "\n",
        "# Calculate random metrics\n",
        "CC_rand = nx.average_clustering(G_rand)  # Random clustering coefficient\n",
        "L_rand = nx.average_shortest_path_length(G_rand.to_directed())  # Random average shortest path length\n",
        "\n",
        "# Calculate small-worldness\n",
        "sigma = (CC / CC_rand) * (L_rand / L)\n",
        "\n",
        "\n",
        "# Print results\n",
        "print(\"Out-degree Clustering Coefficient (CC_out):\", CC)\n",
        "#print(\"In-degree Clustering Coefficient (CC_in):\", CC_in)\n",
        "print(\"Average Shortest Path Length (L):\", L)\n",
        "print(\"Random Clustering Coefficient (CC_rand):\", CC_rand)\n",
        "print(\"Random Average Shortest Path Length (L_rand):\", L_rand)\n",
        "print(\"Small-Worldness (σ):\", sigma)"
      ]
    },
    {
      "cell_type": "markdown",
      "metadata": {},
      "source": [
        "#CENTRALITY: \n",
        "Degree centrality, in-degree centrality, out-degree centrality, closeness centrality"
      ]
    },
    {
      "cell_type": "code",
      "execution_count": 15,
      "metadata": {
        "id": "8wXtRl0fJKIb"
      },
      "outputs": [],
      "source": [
        "centrality = nx.degree_centrality(all_to_all_graph)\n",
        "indegree_centrality = nx.in_degree_centrality(all_to_all_graph)\n",
        "outdegree_centrality = nx.out_degree_centrality(all_to_all_graph)\n",
        "closeness_centrality = nx.closeness_centrality(all_to_all_graph)\n",
        "betweeness_centrality = nx.betweenness_centrality(all_to_all_graph, normalized= True)"
      ]
    },
    {
      "cell_type": "code",
      "execution_count": 16,
      "metadata": {
        "id": "P3dWSS4pKGz-"
      },
      "outputs": [],
      "source": [
        "cell_table['centrality'] = centrality\n",
        "cell_table['indegree_centrality'] = indegree_centrality\n",
        "cell_table['outdegree_centrality'] = outdegree_centrality #normalized in networkx\n",
        "cell_table['closeness_centrality'] = closeness_centrality \n",
        "cell_table['betweeness_centrality'] = betweeness_centrality"
      ]
    },
    {
      "cell_type": "code",
      "execution_count": 17,
      "metadata": {},
      "outputs": [],
      "source": [
        "node_total = len(all_to_all_graph.nodes())"
      ]
    },
    {
      "cell_type": "code",
      "execution_count": 18,
      "metadata": {
        "colab": {
          "base_uri": "https://localhost:8080/",
          "height": 141
        },
        "id": "Ckn9FU0D19TQ",
        "outputId": "128bf47e-3576-41c2-c93d-b3b02b54db64"
      },
      "outputs": [],
      "source": [
        "assemblies_by_connectome_index = mappings['assemblies_by_connectome_index']    #Assembly number for the cell in the connectome"
      ]
    },
    {
      "cell_type": "code",
      "execution_count": 19,
      "metadata": {
        "colab": {
          "base_uri": "https://localhost:8080/",
          "height": 193
        },
        "id": "iwZTrPrEzFjD",
        "outputId": "284831cf-6a59-4b70-fdaf-a6c0346a3701"
      },
      "outputs": [
        {
          "data": {
            "text/plain": [
              "{361: ['A 1'],\n",
              " 288: ['A 1', 'A 3', 'A 4', 'A 5', 'A 7', 'A 8'],\n",
              " 9: ['A 1'],\n",
              " 604: ['A 1', 'A 5', 'A 7', 'A 10'],\n",
              " 439: ['A 1', 'A 3'],\n",
              " 117: ['A 1'],\n",
              " 717: ['A 1', 'A 4', 'A 7', 'A 8'],\n",
              " 153: ['A 1', 'A 4', 'A 7', 'A 8'],\n",
              " 212: ['A 1', 'A 2', 'A 8'],\n",
              " 515: ['A 1', 'A 3'],\n",
              " 670: ['A 1'],\n",
              " 411: ['A 1', 'A 3', 'A 5'],\n",
              " 636: ['A 1', 'A 2', 'A 3'],\n",
              " 338: ['A 1', 'A 6'],\n",
              " 407: ['A 1'],\n",
              " 116: ['A 1', 'A 4'],\n",
              " 190: ['A 1', 'A 6'],\n",
              " 25: ['A 1', 'A 3', 'A 4'],\n",
              " 802: ['A 1', 'A 2'],\n",
              " 314: ['A 1', 'A 6'],\n",
              " 730: ['A 1', 'A 3', 'A 8'],\n",
              " 65: ['A 2', 'A 11'],\n",
              " 101: ['A 2'],\n",
              " 435: ['A 2'],\n",
              " 698: ['A 2', 'A 10'],\n",
              " 767: ['A 2', 'A 4', 'A 5'],\n",
              " 375: ['A 2', 'A 10'],\n",
              " 289: ['A 3'],\n",
              " 216: ['A 3', 'A 7', 'A 8'],\n",
              " 358: ['A 3'],\n",
              " 50: ['A 4'],\n",
              " 632: ['A 4'],\n",
              " 772: ['A 4', 'A 5', 'A 7', 'A 8'],\n",
              " 152: ['A 4', 'A 5', 'A 7', 'A 8'],\n",
              " 684: ['A 5', 'A 7'],\n",
              " 230: ['A 5'],\n",
              " 810: ['A 6'],\n",
              " 540: ['A 9', 'A 12'],\n",
              " 607: ['A 9'],\n",
              " 69: ['A 10'],\n",
              " 696: ['A 10'],\n",
              " 679: ['A 13', 'A 15'],\n",
              " 284: ['A 14'],\n",
              " 573: ['No A'],\n",
              " 242: ['No A'],\n",
              " 363: ['No A'],\n",
              " 731: ['No A'],\n",
              " 737: ['No A'],\n",
              " 221: ['No A'],\n",
              " 32: ['No A'],\n",
              " 402: ['No A'],\n",
              " 464: ['No A'],\n",
              " 766: ['No A'],\n",
              " 774: ['No A'],\n",
              " 83: ['No A']}"
            ]
          },
          "execution_count": 19,
          "metadata": {},
          "output_type": "execute_result"
        }
      ],
      "source": [
        "assemblies_by_connectome_index"
      ]
    },
    {
      "cell_type": "code",
      "execution_count": 20,
      "metadata": {
        "id": "ETQGXuhk6o7P"
      },
      "outputs": [],
      "source": [
        "def get_indices_and_assemblies(assemblies_by_connectome_index):\n",
        "   cells_index = []    #connectome index of cell\n",
        "   assembly_id = []    #assembly id\n",
        "\n",
        "   for cell in assemblies_by_connectome_index:\n",
        "      cells_index.append(cell)\n",
        "\n",
        "   for assembly in assemblies_by_connectome_index.values():\n",
        "      assembly_id.append(assembly)\n",
        "   '''for assembly in cell_indices_by_assemblies:\n",
        "       for cell in cell_indices_by_assemblies[assembly]:\n",
        "        cells_index.append(cell)\n",
        "        assembly_id.append(assembly)'''\n",
        "\n",
        "   return cells_index, assembly_id\n",
        "\n"
      ]
    },
    {
      "cell_type": "code",
      "execution_count": 21,
      "metadata": {
        "id": "QjacD2CFk34W"
      },
      "outputs": [],
      "source": [
        "\n",
        "cell_idx, assembly_id = get_indices_and_assemblies(assemblies_by_connectome_index)\n",
        "\n",
        "#sort the indices and assembly id - make a new dataframe\n",
        "cell_index_and_assembly = pandas.DataFrame()\n",
        "cell_index_and_assembly['cell_index'] = cell_idx\n",
        "cell_index_and_assembly['assembly_id'] = assembly_id"
      ]
    },
    {
      "cell_type": "code",
      "execution_count": 22,
      "metadata": {
        "colab": {
          "base_uri": "https://localhost:8080/",
          "height": 424
        },
        "id": "rlHuMu_ZANX5",
        "outputId": "dbd16f84-d54e-405a-9f64-d5b12a191e54"
      },
      "outputs": [
        {
          "data": {
            "text/html": [
              "<div>\n",
              "<style scoped>\n",
              "    .dataframe tbody tr th:only-of-type {\n",
              "        vertical-align: middle;\n",
              "    }\n",
              "\n",
              "    .dataframe tbody tr th {\n",
              "        vertical-align: top;\n",
              "    }\n",
              "\n",
              "    .dataframe thead th {\n",
              "        text-align: right;\n",
              "    }\n",
              "</style>\n",
              "<table border=\"1\" class=\"dataframe\">\n",
              "  <thead>\n",
              "    <tr style=\"text-align: right;\">\n",
              "      <th></th>\n",
              "      <th>cell_index</th>\n",
              "      <th>assembly_id</th>\n",
              "    </tr>\n",
              "  </thead>\n",
              "  <tbody>\n",
              "    <tr>\n",
              "      <th>0</th>\n",
              "      <td>361</td>\n",
              "      <td>[A 1]</td>\n",
              "    </tr>\n",
              "    <tr>\n",
              "      <th>1</th>\n",
              "      <td>288</td>\n",
              "      <td>[A 1, A 3, A 4, A 5, A 7, A 8]</td>\n",
              "    </tr>\n",
              "    <tr>\n",
              "      <th>2</th>\n",
              "      <td>9</td>\n",
              "      <td>[A 1]</td>\n",
              "    </tr>\n",
              "    <tr>\n",
              "      <th>3</th>\n",
              "      <td>604</td>\n",
              "      <td>[A 1, A 5, A 7, A 10]</td>\n",
              "    </tr>\n",
              "    <tr>\n",
              "      <th>4</th>\n",
              "      <td>439</td>\n",
              "      <td>[A 1, A 3]</td>\n",
              "    </tr>\n",
              "    <tr>\n",
              "      <th>5</th>\n",
              "      <td>117</td>\n",
              "      <td>[A 1]</td>\n",
              "    </tr>\n",
              "    <tr>\n",
              "      <th>6</th>\n",
              "      <td>717</td>\n",
              "      <td>[A 1, A 4, A 7, A 8]</td>\n",
              "    </tr>\n",
              "    <tr>\n",
              "      <th>7</th>\n",
              "      <td>153</td>\n",
              "      <td>[A 1, A 4, A 7, A 8]</td>\n",
              "    </tr>\n",
              "    <tr>\n",
              "      <th>8</th>\n",
              "      <td>212</td>\n",
              "      <td>[A 1, A 2, A 8]</td>\n",
              "    </tr>\n",
              "    <tr>\n",
              "      <th>9</th>\n",
              "      <td>515</td>\n",
              "      <td>[A 1, A 3]</td>\n",
              "    </tr>\n",
              "    <tr>\n",
              "      <th>10</th>\n",
              "      <td>670</td>\n",
              "      <td>[A 1]</td>\n",
              "    </tr>\n",
              "    <tr>\n",
              "      <th>11</th>\n",
              "      <td>411</td>\n",
              "      <td>[A 1, A 3, A 5]</td>\n",
              "    </tr>\n",
              "    <tr>\n",
              "      <th>12</th>\n",
              "      <td>636</td>\n",
              "      <td>[A 1, A 2, A 3]</td>\n",
              "    </tr>\n",
              "    <tr>\n",
              "      <th>13</th>\n",
              "      <td>338</td>\n",
              "      <td>[A 1, A 6]</td>\n",
              "    </tr>\n",
              "    <tr>\n",
              "      <th>14</th>\n",
              "      <td>407</td>\n",
              "      <td>[A 1]</td>\n",
              "    </tr>\n",
              "    <tr>\n",
              "      <th>15</th>\n",
              "      <td>116</td>\n",
              "      <td>[A 1, A 4]</td>\n",
              "    </tr>\n",
              "    <tr>\n",
              "      <th>16</th>\n",
              "      <td>190</td>\n",
              "      <td>[A 1, A 6]</td>\n",
              "    </tr>\n",
              "    <tr>\n",
              "      <th>17</th>\n",
              "      <td>25</td>\n",
              "      <td>[A 1, A 3, A 4]</td>\n",
              "    </tr>\n",
              "    <tr>\n",
              "      <th>18</th>\n",
              "      <td>802</td>\n",
              "      <td>[A 1, A 2]</td>\n",
              "    </tr>\n",
              "    <tr>\n",
              "      <th>19</th>\n",
              "      <td>314</td>\n",
              "      <td>[A 1, A 6]</td>\n",
              "    </tr>\n",
              "    <tr>\n",
              "      <th>20</th>\n",
              "      <td>730</td>\n",
              "      <td>[A 1, A 3, A 8]</td>\n",
              "    </tr>\n",
              "    <tr>\n",
              "      <th>21</th>\n",
              "      <td>65</td>\n",
              "      <td>[A 2, A 11]</td>\n",
              "    </tr>\n",
              "    <tr>\n",
              "      <th>22</th>\n",
              "      <td>101</td>\n",
              "      <td>[A 2]</td>\n",
              "    </tr>\n",
              "    <tr>\n",
              "      <th>23</th>\n",
              "      <td>435</td>\n",
              "      <td>[A 2]</td>\n",
              "    </tr>\n",
              "    <tr>\n",
              "      <th>24</th>\n",
              "      <td>698</td>\n",
              "      <td>[A 2, A 10]</td>\n",
              "    </tr>\n",
              "    <tr>\n",
              "      <th>25</th>\n",
              "      <td>767</td>\n",
              "      <td>[A 2, A 4, A 5]</td>\n",
              "    </tr>\n",
              "    <tr>\n",
              "      <th>26</th>\n",
              "      <td>375</td>\n",
              "      <td>[A 2, A 10]</td>\n",
              "    </tr>\n",
              "    <tr>\n",
              "      <th>27</th>\n",
              "      <td>289</td>\n",
              "      <td>[A 3]</td>\n",
              "    </tr>\n",
              "    <tr>\n",
              "      <th>28</th>\n",
              "      <td>216</td>\n",
              "      <td>[A 3, A 7, A 8]</td>\n",
              "    </tr>\n",
              "    <tr>\n",
              "      <th>29</th>\n",
              "      <td>358</td>\n",
              "      <td>[A 3]</td>\n",
              "    </tr>\n",
              "    <tr>\n",
              "      <th>30</th>\n",
              "      <td>50</td>\n",
              "      <td>[A 4]</td>\n",
              "    </tr>\n",
              "    <tr>\n",
              "      <th>31</th>\n",
              "      <td>632</td>\n",
              "      <td>[A 4]</td>\n",
              "    </tr>\n",
              "    <tr>\n",
              "      <th>32</th>\n",
              "      <td>772</td>\n",
              "      <td>[A 4, A 5, A 7, A 8]</td>\n",
              "    </tr>\n",
              "    <tr>\n",
              "      <th>33</th>\n",
              "      <td>152</td>\n",
              "      <td>[A 4, A 5, A 7, A 8]</td>\n",
              "    </tr>\n",
              "    <tr>\n",
              "      <th>34</th>\n",
              "      <td>684</td>\n",
              "      <td>[A 5, A 7]</td>\n",
              "    </tr>\n",
              "    <tr>\n",
              "      <th>35</th>\n",
              "      <td>230</td>\n",
              "      <td>[A 5]</td>\n",
              "    </tr>\n",
              "    <tr>\n",
              "      <th>36</th>\n",
              "      <td>810</td>\n",
              "      <td>[A 6]</td>\n",
              "    </tr>\n",
              "    <tr>\n",
              "      <th>37</th>\n",
              "      <td>540</td>\n",
              "      <td>[A 9, A 12]</td>\n",
              "    </tr>\n",
              "    <tr>\n",
              "      <th>38</th>\n",
              "      <td>607</td>\n",
              "      <td>[A 9]</td>\n",
              "    </tr>\n",
              "    <tr>\n",
              "      <th>39</th>\n",
              "      <td>69</td>\n",
              "      <td>[A 10]</td>\n",
              "    </tr>\n",
              "    <tr>\n",
              "      <th>40</th>\n",
              "      <td>696</td>\n",
              "      <td>[A 10]</td>\n",
              "    </tr>\n",
              "    <tr>\n",
              "      <th>41</th>\n",
              "      <td>679</td>\n",
              "      <td>[A 13, A 15]</td>\n",
              "    </tr>\n",
              "    <tr>\n",
              "      <th>42</th>\n",
              "      <td>284</td>\n",
              "      <td>[A 14]</td>\n",
              "    </tr>\n",
              "    <tr>\n",
              "      <th>43</th>\n",
              "      <td>573</td>\n",
              "      <td>[No A]</td>\n",
              "    </tr>\n",
              "    <tr>\n",
              "      <th>44</th>\n",
              "      <td>242</td>\n",
              "      <td>[No A]</td>\n",
              "    </tr>\n",
              "    <tr>\n",
              "      <th>45</th>\n",
              "      <td>363</td>\n",
              "      <td>[No A]</td>\n",
              "    </tr>\n",
              "    <tr>\n",
              "      <th>46</th>\n",
              "      <td>731</td>\n",
              "      <td>[No A]</td>\n",
              "    </tr>\n",
              "    <tr>\n",
              "      <th>47</th>\n",
              "      <td>737</td>\n",
              "      <td>[No A]</td>\n",
              "    </tr>\n",
              "    <tr>\n",
              "      <th>48</th>\n",
              "      <td>221</td>\n",
              "      <td>[No A]</td>\n",
              "    </tr>\n",
              "    <tr>\n",
              "      <th>49</th>\n",
              "      <td>32</td>\n",
              "      <td>[No A]</td>\n",
              "    </tr>\n",
              "    <tr>\n",
              "      <th>50</th>\n",
              "      <td>402</td>\n",
              "      <td>[No A]</td>\n",
              "    </tr>\n",
              "    <tr>\n",
              "      <th>51</th>\n",
              "      <td>464</td>\n",
              "      <td>[No A]</td>\n",
              "    </tr>\n",
              "    <tr>\n",
              "      <th>52</th>\n",
              "      <td>766</td>\n",
              "      <td>[No A]</td>\n",
              "    </tr>\n",
              "    <tr>\n",
              "      <th>53</th>\n",
              "      <td>774</td>\n",
              "      <td>[No A]</td>\n",
              "    </tr>\n",
              "    <tr>\n",
              "      <th>54</th>\n",
              "      <td>83</td>\n",
              "      <td>[No A]</td>\n",
              "    </tr>\n",
              "  </tbody>\n",
              "</table>\n",
              "</div>"
            ],
            "text/plain": [
              "    cell_index                     assembly_id\n",
              "0          361                           [A 1]\n",
              "1          288  [A 1, A 3, A 4, A 5, A 7, A 8]\n",
              "2            9                           [A 1]\n",
              "3          604           [A 1, A 5, A 7, A 10]\n",
              "4          439                      [A 1, A 3]\n",
              "5          117                           [A 1]\n",
              "6          717            [A 1, A 4, A 7, A 8]\n",
              "7          153            [A 1, A 4, A 7, A 8]\n",
              "8          212                 [A 1, A 2, A 8]\n",
              "9          515                      [A 1, A 3]\n",
              "10         670                           [A 1]\n",
              "11         411                 [A 1, A 3, A 5]\n",
              "12         636                 [A 1, A 2, A 3]\n",
              "13         338                      [A 1, A 6]\n",
              "14         407                           [A 1]\n",
              "15         116                      [A 1, A 4]\n",
              "16         190                      [A 1, A 6]\n",
              "17          25                 [A 1, A 3, A 4]\n",
              "18         802                      [A 1, A 2]\n",
              "19         314                      [A 1, A 6]\n",
              "20         730                 [A 1, A 3, A 8]\n",
              "21          65                     [A 2, A 11]\n",
              "22         101                           [A 2]\n",
              "23         435                           [A 2]\n",
              "24         698                     [A 2, A 10]\n",
              "25         767                 [A 2, A 4, A 5]\n",
              "26         375                     [A 2, A 10]\n",
              "27         289                           [A 3]\n",
              "28         216                 [A 3, A 7, A 8]\n",
              "29         358                           [A 3]\n",
              "30          50                           [A 4]\n",
              "31         632                           [A 4]\n",
              "32         772            [A 4, A 5, A 7, A 8]\n",
              "33         152            [A 4, A 5, A 7, A 8]\n",
              "34         684                      [A 5, A 7]\n",
              "35         230                           [A 5]\n",
              "36         810                           [A 6]\n",
              "37         540                     [A 9, A 12]\n",
              "38         607                           [A 9]\n",
              "39          69                          [A 10]\n",
              "40         696                          [A 10]\n",
              "41         679                    [A 13, A 15]\n",
              "42         284                          [A 14]\n",
              "43         573                          [No A]\n",
              "44         242                          [No A]\n",
              "45         363                          [No A]\n",
              "46         731                          [No A]\n",
              "47         737                          [No A]\n",
              "48         221                          [No A]\n",
              "49          32                          [No A]\n",
              "50         402                          [No A]\n",
              "51         464                          [No A]\n",
              "52         766                          [No A]\n",
              "53         774                          [No A]\n",
              "54          83                          [No A]"
            ]
          },
          "execution_count": 22,
          "metadata": {},
          "output_type": "execute_result"
        }
      ],
      "source": [
        "cell_index_and_assembly\n"
      ]
    },
    {
      "cell_type": "code",
      "execution_count": null,
      "metadata": {
        "id": "N-6OTFTUHdlU"
      },
      "outputs": [],
      "source": [
        "#cell_index_and_assembly = cell_index_and_assembly.groupby('cell_index')['assembly_id'].apply(list).reset_index()"
      ]
    },
    {
      "cell_type": "code",
      "execution_count": 23,
      "metadata": {
        "id": "EkBivlsXVASo"
      },
      "outputs": [],
      "source": [
        "\n",
        "def get_assemblyIndex_for_Connectome_cells(cell_table, cell_index_and_assembly):\n",
        " connectome_assembly_id = []   #assembly id for all the cells in a connectome\n",
        " #non_assembly_cell_in_connectome = []\n",
        " #assembly_cell_not_in_connectome = []\n",
        " assembly_cell=[]   #a cell that is present in an assembly-------derived from assemblies by connectome index\n",
        " for i in range(len(cell_table)):\n",
        "     connectome_assembly_id.append([])      \n",
        " assembly_id_for_cells_in_assemblies = []\n",
        " cells_in_assemblies = []   #connectome cells that belong to an assembly\n",
        " for cellIndex, assemblyMembershiplist in zip(cell_index_and_assembly['cell_index'],cell_index_and_assembly['assembly_id']):\n",
        "  for index, cell in enumerate(cell_table['connectome_index']):\n",
        "    if cellIndex == cell:\n",
        "      connectome_assembly_id[index] = assemblyMembershiplist      #add the assembly id to the empty list at that connectome index\n",
        "      assembly_id_for_cells_in_assemblies.append(assemblyMembershiplist)     #this should be equal to cell_index_and_assembly['assembly_id'] \n",
        "      cells_in_assemblies.append(cell)   #this should be equal to cell_index_and_assembly['cell_index'] ---- value from cell_table\n",
        "      assembly_cell.append(cellIndex)    #should match with cells_in_assemblies---- value from 'table'\n",
        "  \n",
        " #return(connectome_assembly_id, assembly_id_for_cells_in_assemblies, cells_in_assemblies, assembly_cell)\n",
        "\n",
        " return(connectome_assembly_id)\n"
      ]
    },
    {
      "cell_type": "code",
      "execution_count": 24,
      "metadata": {
        "id": "TqBOJHoXafCs"
      },
      "outputs": [],
      "source": [
        "connectome_assembly_id = get_assemblyIndex_for_Connectome_cells(cell_table, cell_index_and_assembly)\n",
        "\n"
      ]
    },
    {
      "cell_type": "code",
      "execution_count": 25,
      "metadata": {
        "id": "8MfmFNHAeFpV"
      },
      "outputs": [],
      "source": [
        "cell_table['assembly_id'] = connectome_assembly_id #add assembly id for each cell in the connectome to the main cell table\n"
      ]
    },
    {
      "cell_type": "code",
      "execution_count": 26,
      "metadata": {},
      "outputs": [
        {
          "data": {
            "text/plain": [
              "['A 14']"
            ]
          },
          "execution_count": 26,
          "metadata": {},
          "output_type": "execute_result"
        }
      ],
      "source": [
        "cell_table['assembly_id'][284]"
      ]
    },
    {
      "cell_type": "code",
      "execution_count": 27,
      "metadata": {},
      "outputs": [
        {
          "data": {
            "text/plain": [
              "['No A']"
            ]
          },
          "execution_count": 27,
          "metadata": {},
          "output_type": "execute_result"
        }
      ],
      "source": [
        "cell_table['assembly_id'][83] #[check]"
      ]
    },
    {
      "cell_type": "code",
      "execution_count": 86,
      "metadata": {},
      "outputs": [
        {
          "name": "stdout",
          "output_type": "stream",
          "text": [
            "False\n",
            "True\n",
            "True\n",
            "False\n",
            "False\n",
            "True\n",
            "True\n",
            "False\n",
            "False\n",
            "True\n",
            "True\n",
            "False\n",
            "False\n",
            "True\n",
            "True\n",
            "False\n",
            "True\n",
            "False\n",
            "True\n",
            "False\n"
          ]
        }
      ],
      "source": [
        "#TRIAL CHECK FOR 'AND' 'OR' LOGIC\n",
        "''''cells = ['A 1', 'A 1', 'A 1', 'A 1','0']\n",
        "\n",
        "for idx in cells:\n",
        "    print(idx != 'A 1')\n",
        "    print(idx != '0')\n",
        "    print(idx != 'A 1' or idx != '0')\n",
        "    print(idx != 'A 1' and idx != '0')'''\n"
      ]
    },
    {
      "cell_type": "code",
      "execution_count": 108,
      "metadata": {},
      "outputs": [
        {
          "name": "stdout",
          "output_type": "stream",
          "text": [
            "32 ['No A'] 0.1605392156862745\n",
            "83 ['No A'] 0.11764705882352941\n",
            "221 ['No A'] 0.18504901960784315\n",
            "242 ['No A'] 0.17892156862745098\n",
            "363 ['No A'] 0.15318627450980393\n",
            "402 ['No A'] 0.11397058823529412\n",
            "464 ['No A'] 0.1409313725490196\n",
            "573 ['No A'] 0.11764705882352941\n",
            "731 ['No A'] 0.16176470588235295\n",
            "737 ['No A'] 0.13725490196078433\n",
            "766 ['No A'] 0.0821078431372549\n",
            "774 ['No A'] 0.13112745098039216\n"
          ]
        }
      ],
      "source": [
        "#TEST CODE\n",
        "'''\n",
        "for idx, cent in zip(cell_table['connectome_index'], cell_table['centrality']):  #note- check the exact functionality of ZIP function\n",
        "    if idx in mappings['assemblies_by_connectome_index'].keys():\n",
        "        if mappings['assemblies_by_connectome_index'][idx] == ['No A']:\n",
        "            print(idx, mappings['assemblies_by_connectome_index'][idx], cent)\n",
        "            #APPEND CENTRALITY!'''"
      ]
    },
    {
      "cell_type": "code",
      "execution_count": 110,
      "metadata": {},
      "outputs": [
        {
          "data": {
            "text/plain": [
              "0.11764705882352941"
            ]
          },
          "execution_count": 110,
          "metadata": {},
          "output_type": "execute_result"
        }
      ],
      "source": [
        "cell_table['centrality'][83]  #correct!"
      ]
    },
    {
      "cell_type": "markdown",
      "metadata": {},
      "source": [
        "This shows that OR will always be TRUE!"
      ]
    },
    {
      "cell_type": "code",
      "execution_count": 127,
      "metadata": {
        "id": "bTYx2wYcVznU"
      },
      "outputs": [],
      "source": [
        "#plots\n",
        "\n",
        "#----------DEGREE CENTRALITY------------------------\n",
        "centrality_assembly_cells = []\n",
        "centrality_non_assembly_cells = []\n",
        "id_check_non_assembly = []\n",
        "\n",
        "for id, cent in zip(cell_table['assembly_id'], cell_table['centrality']):\n",
        "  if id != ['No A'] and id != []:    \n",
        "   #print(idx)\n",
        "   #print(idx)\n",
        "   centrality_assembly_cells.append(cent)\n",
        "  elif id == ['No A']:\n",
        "    #print(idx)\n",
        "    #print(cent)\n",
        "    id_check_non_assembly.append(id)\n",
        "    centrality_non_assembly_cells.append(cent)\n",
        "\n"
      ]
    },
    {
      "cell_type": "code",
      "execution_count": 128,
      "metadata": {},
      "outputs": [],
      "source": [
        "for i in id_check_non_assembly:\n",
        "    if i != ['No A']:\n",
        "        print(i)"
      ]
    },
    {
      "cell_type": "code",
      "execution_count": 129,
      "metadata": {
        "colab": {
          "base_uri": "https://localhost:8080/",
          "height": 802
        },
        "id": "mLpXCVW_Q-le",
        "outputId": "47e97923-0102-4627-f88f-f36d321129a8"
      },
      "outputs": [
        {
          "data": {
            "image/png": "[encoded data removed]",
            "text/plain": [
              "<Figure size 1000x700 with 1 Axes>"
            ]
          },
          "metadata": {},
          "output_type": "display_data"
        }
      ],
      "source": [
        "import matplotlib.pyplot as plt\n",
        "from scipy.stats import ranksums\n",
        "\n",
        "data = [centrality_assembly_cells, centrality_non_assembly_cells]\n",
        "\n",
        "stat, p_value = ranksums(centrality_assembly_cells, centrality_non_assembly_cells, 'greater')\n",
        "\n",
        "titles = ['Centrality_assembly_cells', 'Centrality_Non_assembly_cells']\n",
        "\n",
        "fig = plt.figure(figsize =(10, 7))\n",
        "\n",
        "# Creating axes instance\n",
        "ax = fig.add_axes([0, 0, 1, 1])\n",
        "\n",
        "# Creating plot\n",
        "bp = ax.boxplot(data)\n",
        "\n",
        "# show plot\n",
        "ax.set_xticklabels(titles)\n",
        "\n",
        "# Set the x-axis label\n",
        "plt.xlabel('Titles')\n",
        "plt.title(f'{titles[0]} vs {titles[1]} \\np={p_value:.4f}')\n",
        "plt.show()"
      ]
    },
    {
      "cell_type": "code",
      "execution_count": 130,
      "metadata": {},
      "outputs": [
        {
          "name": "stdout",
          "output_type": "stream",
          "text": [
            "No. of assembly cells: 43\n",
            "No. of non-assembly cells: 12\n"
          ]
        }
      ],
      "source": [
        "#---------------------------------plots for in-degree------------------------------------\n",
        "\n",
        "indegree_centrality_assembly_cells = []\n",
        "indegree_centrality_non_assembly_cells = []\n",
        "idx_check_assembly_ID = []\n",
        "idx_check_non_assembly_ID = []\n",
        "\n",
        "for id, in_cent, conn_idx in zip(cell_table['assembly_id'], cell_table['indegree_centrality'], cell_table['connectome_index']):\n",
        "  if  id != ['No A'] and id != []:    \n",
        "   #print(idx, conn_idx)\n",
        "   idx_check_assembly_ID.append(conn_idx)\n",
        "   indegree_centrality_assembly_cells.append(in_cent)\n",
        "  elif id == ['No A']:\n",
        "    \n",
        "    #print(idx, conn_idx)\n",
        "    #print(cent)\n",
        "    idx_check_non_assembly_ID.append(conn_idx)\n",
        "    indegree_centrality_non_assembly_cells.append(in_cent)\n",
        "\n",
        "print(\"No. of assembly cells:\", len(idx_check_assembly_ID))\n",
        "print(\"No. of non-assembly cells:\", len(idx_check_non_assembly_ID))"
      ]
    },
    {
      "cell_type": "code",
      "execution_count": 131,
      "metadata": {},
      "outputs": [
        {
          "data": {
            "text/plain": [
              "12"
            ]
          },
          "execution_count": 131,
          "metadata": {},
          "output_type": "execute_result"
        }
      ],
      "source": [
        "len(idx_check_non_assembly_ID)"
      ]
    },
    {
      "cell_type": "code",
      "execution_count": 132,
      "metadata": {},
      "outputs": [
        {
          "data": {
            "text/plain": [
              "(817,)"
            ]
          },
          "execution_count": 132,
          "metadata": {},
          "output_type": "execute_result"
        }
      ],
      "source": [
        "np.shape(cell_table['assembly_id'])"
      ]
    },
    {
      "cell_type": "code",
      "execution_count": 133,
      "metadata": {},
      "outputs": [
        {
          "data": {
            "text/plain": [
              "(817,)"
            ]
          },
          "execution_count": 133,
          "metadata": {},
          "output_type": "execute_result"
        }
      ],
      "source": [
        "np.shape(cell_table['connectome_index'])"
      ]
    },
    {
      "cell_type": "code",
      "execution_count": 134,
      "metadata": {},
      "outputs": [
        {
          "data": {
            "image/png": "[encoded data removed]",
            "text/plain": [
              "<Figure size 1000x700 with 1 Axes>"
            ]
          },
          "metadata": {},
          "output_type": "display_data"
        }
      ],
      "source": [
        "data = [indegree_centrality_assembly_cells, indegree_centrality_non_assembly_cells]\n",
        "\n",
        "stat, p_value = ranksums(indegree_centrality_assembly_cells, indegree_centrality_non_assembly_cells, 'greater')\n",
        "\n",
        "titles = ['Indegree_Centrality_assembly_cells', 'Indegree_Centrality_Non_assembly_cells']\n",
        "\n",
        "fig = plt.figure(figsize =(10, 7))\n",
        "\n",
        "# Creating axes instance\n",
        "ax = fig.add_axes([0, 0, 1, 1])\n",
        "\n",
        "# Creating plot\n",
        "bp = ax.boxplot(data)\n",
        "\n",
        "# show plot\n",
        "ax.set_xticklabels(titles)\n",
        "\n",
        "# Set the x-axis label\n",
        "plt.xlabel('Titles')\n",
        "plt.title(f'{titles[0]} vs {titles[1]} \\np={p_value:.4f}')\n",
        "plt.show()"
      ]
    },
    {
      "cell_type": "code",
      "execution_count": 34,
      "metadata": {},
      "outputs": [
        {
          "data": {
            "text/html": [
              "<div>\n",
              "<style scoped>\n",
              "    .dataframe tbody tr th:only-of-type {\n",
              "        vertical-align: middle;\n",
              "    }\n",
              "\n",
              "    .dataframe tbody tr th {\n",
              "        vertical-align: top;\n",
              "    }\n",
              "\n",
              "    .dataframe thead th {\n",
              "        text-align: right;\n",
              "    }\n",
              "</style>\n",
              "<table border=\"1\" class=\"dataframe\">\n",
              "  <thead>\n",
              "    <tr style=\"text-align: right;\">\n",
              "      <th></th>\n",
              "      <th>index</th>\n",
              "      <th>id</th>\n",
              "      <th>pt_root_id</th>\n",
              "      <th>pt_position_x</th>\n",
              "      <th>pt_position_y</th>\n",
              "      <th>pt_position_z</th>\n",
              "      <th>classification_system</th>\n",
              "      <th>cell_type</th>\n",
              "      <th>status_axon</th>\n",
              "      <th>pt_position_x_trafo</th>\n",
              "      <th>...</th>\n",
              "      <th>full_dendrite</th>\n",
              "      <th>cell_type_v2</th>\n",
              "      <th>connectome_index</th>\n",
              "      <th>pt_position</th>\n",
              "      <th>centrality</th>\n",
              "      <th>indegree_centrality</th>\n",
              "      <th>outdegree_centrality</th>\n",
              "      <th>closeness_centrality</th>\n",
              "      <th>betweeness_centrality</th>\n",
              "      <th>assembly_id</th>\n",
              "    </tr>\n",
              "  </thead>\n",
              "  <tbody>\n",
              "    <tr>\n",
              "      <th>0</th>\n",
              "      <td>9</td>\n",
              "      <td>293764</td>\n",
              "      <td>864691132625300120</td>\n",
              "      <td>878665</td>\n",
              "      <td>697702</td>\n",
              "      <td>245475</td>\n",
              "      <td>excitatory</td>\n",
              "      <td>4P</td>\n",
              "      <td>extended</td>\n",
              "      <td>-17654.153169</td>\n",
              "      <td>...</td>\n",
              "      <td>True</td>\n",
              "      <td>4P</td>\n",
              "      <td>0</td>\n",
              "      <td>[878665, 697702, 245475]</td>\n",
              "      <td>0.079657</td>\n",
              "      <td>0.049020</td>\n",
              "      <td>0.030637</td>\n",
              "      <td>0.460408</td>\n",
              "      <td>0.000085</td>\n",
              "      <td>[]</td>\n",
              "    </tr>\n",
              "    <tr>\n",
              "      <th>1</th>\n",
              "      <td>41</td>\n",
              "      <td>295576</td>\n",
              "      <td>864691132710501931</td>\n",
              "      <td>842193</td>\n",
              "      <td>737122</td>\n",
              "      <td>325260</td>\n",
              "      <td>inhibitory</td>\n",
              "      <td>ProxTC</td>\n",
              "      <td>extended</td>\n",
              "      <td>-67856.489452</td>\n",
              "      <td>...</td>\n",
              "      <td>True</td>\n",
              "      <td>ProxTC-L5</td>\n",
              "      <td>1</td>\n",
              "      <td>[842193, 737122, 325260]</td>\n",
              "      <td>0.095588</td>\n",
              "      <td>0.058824</td>\n",
              "      <td>0.036765</td>\n",
              "      <td>0.484525</td>\n",
              "      <td>0.000405</td>\n",
              "      <td>[]</td>\n",
              "    </tr>\n",
              "    <tr>\n",
              "      <th>2</th>\n",
              "      <td>62</td>\n",
              "      <td>278405</td>\n",
              "      <td>864691132830575876</td>\n",
              "      <td>737898</td>\n",
              "      <td>601710</td>\n",
              "      <td>294075</td>\n",
              "      <td>inhibitory</td>\n",
              "      <td>DistTC</td>\n",
              "      <td>extended</td>\n",
              "      <td>-145995.980100</td>\n",
              "      <td>...</td>\n",
              "      <td>True</td>\n",
              "      <td>DistTC-L23</td>\n",
              "      <td>2</td>\n",
              "      <td>[737898, 601710, 294075]</td>\n",
              "      <td>0.327206</td>\n",
              "      <td>0.156863</td>\n",
              "      <td>0.170343</td>\n",
              "      <td>0.497252</td>\n",
              "      <td>0.002206</td>\n",
              "      <td>[]</td>\n",
              "    </tr>\n",
              "    <tr>\n",
              "      <th>3</th>\n",
              "      <td>85</td>\n",
              "      <td>307952</td>\n",
              "      <td>864691132999200949</td>\n",
              "      <td>867646</td>\n",
              "      <td>840563</td>\n",
              "      <td>262935</td>\n",
              "      <td>excitatory</td>\n",
              "      <td>5P</td>\n",
              "      <td>extended</td>\n",
              "      <td>-69027.465946</td>\n",
              "      <td>...</td>\n",
              "      <td>True</td>\n",
              "      <td>5P</td>\n",
              "      <td>3</td>\n",
              "      <td>[867646, 840563, 262935]</td>\n",
              "      <td>0.083333</td>\n",
              "      <td>0.044118</td>\n",
              "      <td>0.039216</td>\n",
              "      <td>0.474636</td>\n",
              "      <td>0.000507</td>\n",
              "      <td>[]</td>\n",
              "    </tr>\n",
              "    <tr>\n",
              "      <th>4</th>\n",
              "      <td>93</td>\n",
              "      <td>366542</td>\n",
              "      <td>864691132834421640</td>\n",
              "      <td>923130</td>\n",
              "      <td>760946</td>\n",
              "      <td>173250</td>\n",
              "      <td>inhibitory</td>\n",
              "      <td>DistTC</td>\n",
              "      <td>extended</td>\n",
              "      <td>17492.220187</td>\n",
              "      <td>...</td>\n",
              "      <td>False</td>\n",
              "      <td>DistTC-L4</td>\n",
              "      <td>4</td>\n",
              "      <td>[923130, 760946, 173250]</td>\n",
              "      <td>0.232843</td>\n",
              "      <td>0.066176</td>\n",
              "      <td>0.166667</td>\n",
              "      <td>0.471066</td>\n",
              "      <td>0.002077</td>\n",
              "      <td>[]</td>\n",
              "    </tr>\n",
              "    <tr>\n",
              "      <th>...</th>\n",
              "      <td>...</td>\n",
              "      <td>...</td>\n",
              "      <td>...</td>\n",
              "      <td>...</td>\n",
              "      <td>...</td>\n",
              "      <td>...</td>\n",
              "      <td>...</td>\n",
              "      <td>...</td>\n",
              "      <td>...</td>\n",
              "      <td>...</td>\n",
              "      <td>...</td>\n",
              "      <td>...</td>\n",
              "      <td>...</td>\n",
              "      <td>...</td>\n",
              "      <td>...</td>\n",
              "      <td>...</td>\n",
              "      <td>...</td>\n",
              "      <td>...</td>\n",
              "      <td>...</td>\n",
              "      <td>...</td>\n",
              "      <td>...</td>\n",
              "    </tr>\n",
              "    <tr>\n",
              "      <th>812</th>\n",
              "      <td>8764</td>\n",
              "      <td>371302</td>\n",
              "      <td>864691132849454803</td>\n",
              "      <td>958050</td>\n",
              "      <td>629957</td>\n",
              "      <td>382545</td>\n",
              "      <td>inhibitory</td>\n",
              "      <td>ProxTC</td>\n",
              "      <td>extended</td>\n",
              "      <td>67043.559779</td>\n",
              "      <td>...</td>\n",
              "      <td>True</td>\n",
              "      <td>ProxTC-L4</td>\n",
              "      <td>812</td>\n",
              "      <td>[958050, 629957, 382545]</td>\n",
              "      <td>0.417892</td>\n",
              "      <td>0.145833</td>\n",
              "      <td>0.272059</td>\n",
              "      <td>0.507482</td>\n",
              "      <td>0.003332</td>\n",
              "      <td>[]</td>\n",
              "    </tr>\n",
              "    <tr>\n",
              "      <th>813</th>\n",
              "      <td>8769</td>\n",
              "      <td>385115</td>\n",
              "      <td>864691132679146333</td>\n",
              "      <td>975354</td>\n",
              "      <td>850418</td>\n",
              "      <td>394650</td>\n",
              "      <td>excitatory</td>\n",
              "      <td>6P</td>\n",
              "      <td>extended</td>\n",
              "      <td>17544.597851</td>\n",
              "      <td>...</td>\n",
              "      <td>True</td>\n",
              "      <td>6P</td>\n",
              "      <td>813</td>\n",
              "      <td>[975354, 850418, 394650]</td>\n",
              "      <td>0.056373</td>\n",
              "      <td>0.031863</td>\n",
              "      <td>0.024510</td>\n",
              "      <td>0.436462</td>\n",
              "      <td>0.000134</td>\n",
              "      <td>[]</td>\n",
              "    </tr>\n",
              "    <tr>\n",
              "      <th>814</th>\n",
              "      <td>8773</td>\n",
              "      <td>383491</td>\n",
              "      <td>864691132763271347</td>\n",
              "      <td>928872</td>\n",
              "      <td>797418</td>\n",
              "      <td>316125</td>\n",
              "      <td>excitatory</td>\n",
              "      <td>5P</td>\n",
              "      <td>extended</td>\n",
              "      <td>3578.299784</td>\n",
              "      <td>...</td>\n",
              "      <td>True</td>\n",
              "      <td>5P</td>\n",
              "      <td>814</td>\n",
              "      <td>[928872, 797418, 316125]</td>\n",
              "      <td>0.100490</td>\n",
              "      <td>0.064951</td>\n",
              "      <td>0.035539</td>\n",
              "      <td>0.483948</td>\n",
              "      <td>0.000349</td>\n",
              "      <td>[]</td>\n",
              "    </tr>\n",
              "    <tr>\n",
              "      <th>815</th>\n",
              "      <td>8790</td>\n",
              "      <td>351167</td>\n",
              "      <td>864691132579592205</td>\n",
              "      <td>927863</td>\n",
              "      <td>548865</td>\n",
              "      <td>192105</td>\n",
              "      <td>inhibitory</td>\n",
              "      <td>ProxTC</td>\n",
              "      <td>extended</td>\n",
              "      <td>51726.443534</td>\n",
              "      <td>...</td>\n",
              "      <td>False</td>\n",
              "      <td>ProxTC-L23</td>\n",
              "      <td>815</td>\n",
              "      <td>[927863, 548865, 192105]</td>\n",
              "      <td>0.371324</td>\n",
              "      <td>0.148284</td>\n",
              "      <td>0.223039</td>\n",
              "      <td>0.504650</td>\n",
              "      <td>0.002343</td>\n",
              "      <td>[]</td>\n",
              "    </tr>\n",
              "    <tr>\n",
              "      <th>816</th>\n",
              "      <td>8794</td>\n",
              "      <td>277788</td>\n",
              "      <td>864691132653866455</td>\n",
              "      <td>853833</td>\n",
              "      <td>547235</td>\n",
              "      <td>263385</td>\n",
              "      <td>excitatory</td>\n",
              "      <td>3P</td>\n",
              "      <td>extended</td>\n",
              "      <td>-23541.351541</td>\n",
              "      <td>...</td>\n",
              "      <td>False</td>\n",
              "      <td>3P</td>\n",
              "      <td>816</td>\n",
              "      <td>[853833, 547235, 263385]</td>\n",
              "      <td>0.199755</td>\n",
              "      <td>0.139706</td>\n",
              "      <td>0.060049</td>\n",
              "      <td>0.518803</td>\n",
              "      <td>0.001443</td>\n",
              "      <td>[]</td>\n",
              "    </tr>\n",
              "  </tbody>\n",
              "</table>\n",
              "<p>817 rows × 29 columns</p>\n",
              "</div>"
            ],
            "text/plain": [
              "     index      id          pt_root_id  pt_position_x  pt_position_y  \\\n",
              "0        9  293764  864691132625300120         878665         697702   \n",
              "1       41  295576  864691132710501931         842193         737122   \n",
              "2       62  278405  864691132830575876         737898         601710   \n",
              "3       85  307952  864691132999200949         867646         840563   \n",
              "4       93  366542  864691132834421640         923130         760946   \n",
              "..     ...     ...                 ...            ...            ...   \n",
              "812   8764  371302  864691132849454803         958050         629957   \n",
              "813   8769  385115  864691132679146333         975354         850418   \n",
              "814   8773  383491  864691132763271347         928872         797418   \n",
              "815   8790  351167  864691132579592205         927863         548865   \n",
              "816   8794  277788  864691132653866455         853833         547235   \n",
              "\n",
              "     pt_position_z classification_system cell_type status_axon  \\\n",
              "0           245475            excitatory        4P    extended   \n",
              "1           325260            inhibitory    ProxTC    extended   \n",
              "2           294075            inhibitory    DistTC    extended   \n",
              "3           262935            excitatory        5P    extended   \n",
              "4           173250            inhibitory    DistTC    extended   \n",
              "..             ...                   ...       ...         ...   \n",
              "812         382545            inhibitory    ProxTC    extended   \n",
              "813         394650            excitatory        6P    extended   \n",
              "814         316125            excitatory        5P    extended   \n",
              "815         192105            inhibitory    ProxTC    extended   \n",
              "816         263385            excitatory        3P    extended   \n",
              "\n",
              "     pt_position_x_trafo  ...  full_dendrite  cell_type_v2 connectome_index  \\\n",
              "0          -17654.153169  ...           True            4P                0   \n",
              "1          -67856.489452  ...           True     ProxTC-L5                1   \n",
              "2         -145995.980100  ...           True    DistTC-L23                2   \n",
              "3          -69027.465946  ...           True            5P                3   \n",
              "4           17492.220187  ...          False     DistTC-L4                4   \n",
              "..                   ...  ...            ...           ...              ...   \n",
              "812         67043.559779  ...           True     ProxTC-L4              812   \n",
              "813         17544.597851  ...           True            6P              813   \n",
              "814          3578.299784  ...           True            5P              814   \n",
              "815         51726.443534  ...          False    ProxTC-L23              815   \n",
              "816        -23541.351541  ...          False            3P              816   \n",
              "\n",
              "                  pt_position  centrality  indegree_centrality  \\\n",
              "0    [878665, 697702, 245475]    0.079657             0.049020   \n",
              "1    [842193, 737122, 325260]    0.095588             0.058824   \n",
              "2    [737898, 601710, 294075]    0.327206             0.156863   \n",
              "3    [867646, 840563, 262935]    0.083333             0.044118   \n",
              "4    [923130, 760946, 173250]    0.232843             0.066176   \n",
              "..                        ...         ...                  ...   \n",
              "812  [958050, 629957, 382545]    0.417892             0.145833   \n",
              "813  [975354, 850418, 394650]    0.056373             0.031863   \n",
              "814  [928872, 797418, 316125]    0.100490             0.064951   \n",
              "815  [927863, 548865, 192105]    0.371324             0.148284   \n",
              "816  [853833, 547235, 263385]    0.199755             0.139706   \n",
              "\n",
              "     outdegree_centrality  closeness_centrality  betweeness_centrality  \\\n",
              "0                0.030637              0.460408               0.000085   \n",
              "1                0.036765              0.484525               0.000405   \n",
              "2                0.170343              0.497252               0.002206   \n",
              "3                0.039216              0.474636               0.000507   \n",
              "4                0.166667              0.471066               0.002077   \n",
              "..                    ...                   ...                    ...   \n",
              "812              0.272059              0.507482               0.003332   \n",
              "813              0.024510              0.436462               0.000134   \n",
              "814              0.035539              0.483948               0.000349   \n",
              "815              0.223039              0.504650               0.002343   \n",
              "816              0.060049              0.518803               0.001443   \n",
              "\n",
              "     assembly_id  \n",
              "0             []  \n",
              "1             []  \n",
              "2             []  \n",
              "3             []  \n",
              "4             []  \n",
              "..           ...  \n",
              "812           []  \n",
              "813           []  \n",
              "814           []  \n",
              "815           []  \n",
              "816           []  \n",
              "\n",
              "[817 rows x 29 columns]"
            ]
          },
          "execution_count": 34,
          "metadata": {},
          "output_type": "execute_result"
        }
      ],
      "source": [
        "cell_table"
      ]
    },
    {
      "cell_type": "code",
      "execution_count": 154,
      "metadata": {},
      "outputs": [
        {
          "name": "stdout",
          "output_type": "stream",
          "text": [
            "No. of assembly cells: 43\n",
            "No. of non-assembly cells: 12\n"
          ]
        }
      ],
      "source": [
        "#---------------------plots for out-degree---------------------------------\n",
        "\n",
        "outdegree_centrality_assembly_cells = []\n",
        "outdegree_centrality_non_assembly_cells = []\n",
        "idx_check_assembly_OD = []\n",
        "idx_check_non_assembly_OD = []\n",
        "\n",
        "for id, out_cent, conn_idx in zip(cell_table['assembly_id'], cell_table['outdegree_centrality'], cell_table['connectome_index']):\n",
        "  if  id != ['No A'] and id != []:    \n",
        "   #print(idx, conn_idx)\n",
        "   idx_check_assembly_OD.append(conn_idx)\n",
        "   outdegree_centrality_assembly_cells.append(out_cent)\n",
        "  elif id == ['No A']:\n",
        "    #print(idx)\n",
        "    #print(cent)\n",
        "    idx_check_non_assembly_OD.append(conn_idx)\n",
        "    outdegree_centrality_non_assembly_cells.append(out_cent)\n",
        "\n",
        "print(\"No. of assembly cells:\", len(idx_check_assembly_OD))\n",
        "print(\"No. of non-assembly cells:\", len(idx_check_non_assembly_OD))"
      ]
    },
    {
      "cell_type": "code",
      "execution_count": 155,
      "metadata": {},
      "outputs": [
        {
          "data": {
            "image/png": "[encoded data removed]",
            "text/plain": [
              "<Figure size 1000x700 with 1 Axes>"
            ]
          },
          "metadata": {},
          "output_type": "display_data"
        }
      ],
      "source": [
        "data = [outdegree_centrality_assembly_cells, outdegree_centrality_non_assembly_cells]\n",
        "\n",
        "stat, p_value = ranksums(outdegree_centrality_assembly_cells, outdegree_centrality_non_assembly_cells, 'greater')\n",
        "# print(np.mean(outdegree_centrality_assembly_cells))\n",
        "# print(np.mean(outdegree_centrality_non_assembly_cells))\n",
        "# print(np.std(outdegree_centrality_assembly_cells))\n",
        "# print(np.std(outdegree_centrality_non_assembly_cells))\n",
        "titles = ['Outdegree_Centrality_assembly_cells', 'Outdegree_Centrality_Non_assembly_cells']\n",
        "\n",
        "fig = plt.figure(figsize =(10, 7))\n",
        "\n",
        "# Creating axes instance\n",
        "ax = fig.add_axes([0, 0, 1, 1])\n",
        "\n",
        "# Creating plot\n",
        "bp = ax.boxplot(data)\n",
        "\n",
        "# show plot\n",
        "ax.set_xticklabels(titles)\n",
        "\n",
        "# Set the x-axis label\n",
        "plt.xlabel('Titles')\n",
        "plt.title(f'{titles[0]} vs {titles[1]} \\np={p_value:.4f}')\n",
        "plt.show()"
      ]
    },
    {
      "cell_type": "code",
      "execution_count": 156,
      "metadata": {},
      "outputs": [
        {
          "data": {
            "text/plain": [
              "0.19565388621461488"
            ]
          },
          "execution_count": 156,
          "metadata": {},
          "output_type": "execute_result"
        }
      ],
      "source": [
        "#statistical test\n",
        "stat = ranksums(outdegree_centrality_assembly_cells, outdegree_centrality_non_assembly_cells)\n",
        "stat.pvalue"
      ]
    },
    {
      "cell_type": "code",
      "execution_count": 157,
      "metadata": {},
      "outputs": [],
      "source": [
        "closeness_centrality_assembly_cells = []\n",
        "closeness_centrality_non_assembly_cells = []\n",
        "id_check_non_assembly = []\n",
        "\n",
        "for id, close_cent in zip(cell_table['assembly_id'], cell_table['closeness_centrality']):\n",
        "  if id != ['No A'] and id != []:    \n",
        "   #print(idx)\n",
        "   #print(idx)\n",
        "   closeness_centrality_assembly_cells.append(close_cent)\n",
        "  elif id == ['No A']:\n",
        "    #print(idx)\n",
        "    #print(cent)\n",
        "    id_check_non_assembly.append(id)\n",
        "    closeness_centrality_non_assembly_cells.append(close_cent)"
      ]
    },
    {
      "cell_type": "code",
      "execution_count": 158,
      "metadata": {},
      "outputs": [
        {
          "data": {
            "image/png": "[encoded data removed]",
            "text/plain": [
              "<Figure size 1000x700 with 1 Axes>"
            ]
          },
          "metadata": {},
          "output_type": "display_data"
        }
      ],
      "source": [
        "#-----------------------------plot for closeness centrality ----------------------------------\n",
        "data = [closeness_centrality_assembly_cells, closeness_centrality_non_assembly_cells]\n",
        "\n",
        "stat, p_value = ranksums(closeness_centrality_assembly_cells, closeness_centrality_non_assembly_cells, 'greater')\n",
        "titles = ['Closeness_Centrality_assembly_cells', 'Closeness_Centrality_Non_assembly_cells']\n",
        "\n",
        "fig = plt.figure(figsize =(10, 7))\n",
        "\n",
        "# Creating axes instance\n",
        "ax = fig.add_axes([0, 0, 1, 1])\n",
        "\n",
        "# Creating plot\n",
        "bp = ax.boxplot(data)\n",
        "\n",
        "# show plot\n",
        "ax.set_xticklabels(titles)\n",
        "\n",
        "# Set the x-axis label\n",
        "plt.xlabel('Titles')\n",
        "plt.title(f'{titles[0]} vs {titles[1]} \\np={p_value:.4f}')\n",
        "plt.show()"
      ]
    },
    {
      "cell_type": "code",
      "execution_count": 159,
      "metadata": {},
      "outputs": [
        {
          "data": {
            "text/plain": [
              "0.9431393572120192"
            ]
          },
          "execution_count": 159,
          "metadata": {},
          "output_type": "execute_result"
        }
      ],
      "source": [
        "#stat test\n",
        "stat = ranksums(closeness_centrality_assembly_cells, closeness_centrality_non_assembly_cells)\n",
        "stat.pvalue"
      ]
    },
    {
      "cell_type": "code",
      "execution_count": 164,
      "metadata": {},
      "outputs": [
        {
          "name": "stdout",
          "output_type": "stream",
          "text": [
            "No. of assembly cells: 43\n",
            "No. of non-assembly cells: 12\n"
          ]
        }
      ],
      "source": [
        "#plots\n",
        "\n",
        "#----------DEGREE CENTRALITY------------------------\n",
        "b_centrality_assembly_cells = []\n",
        "b_centrality_non_assembly_cells = []\n",
        "idx_check_assembly_BC= []\n",
        "idx_check_non_assembly_BC = []\n",
        "\n",
        "\n",
        "for id, bet_cent, conn_idx in zip(cell_table['assembly_id'], cell_table['betweeness_centrality'], cell_table['connectome_index']):\n",
        "  if id != ['No A'] and id != []:    \n",
        "   #print(idx)\n",
        "   idx_check_assembly_BC.append(conn_idx)\n",
        "   b_centrality_assembly_cells.append(bet_cent)\n",
        "  elif id == ['No A']:\n",
        "    #print(idx)\n",
        "    #print(cent)\n",
        "    idx_check_non_assembly_BC.append(conn_idx)\n",
        "    b_centrality_non_assembly_cells.append(bet_cent)\n",
        "\n",
        "print(\"No. of assembly cells:\", len(idx_check_assembly_BC))\n",
        "print(\"No. of non-assembly cells:\", len(idx_check_non_assembly_BC))"
      ]
    },
    {
      "cell_type": "code",
      "execution_count": 165,
      "metadata": {},
      "outputs": [
        {
          "data": {
            "image/png": "[encoded data removed]",
            "text/plain": [
              "<Figure size 1000x700 with 1 Axes>"
            ]
          },
          "metadata": {},
          "output_type": "display_data"
        }
      ],
      "source": [
        "#-----------------------------plot for closeness centrality ----------------------------------\n",
        "data = [b_centrality_assembly_cells, b_centrality_non_assembly_cells]\n",
        "\n",
        "stat, p_value = ranksums(b_centrality_assembly_cells,b_centrality_non_assembly_cells, 'greater')\n",
        "titles = ['Betweeness_Centrality_assembly_cells', 'Betweenness_Centrality_Non_assembly_cells']\n",
        "\n",
        "fig = plt.figure(figsize =(10, 7))\n",
        "\n",
        "# Creating axes instance\n",
        "ax = fig.add_axes([0, 0, 1, 1])\n",
        "\n",
        "# Creating plot\n",
        "bp = ax.boxplot(data)\n",
        "\n",
        "# show plot\n",
        "ax.set_xticklabels(titles)\n",
        "\n",
        "# Set the x-axis label\n",
        "plt.xlabel('Titles')\n",
        "plt.title(f'{titles[0]} vs {titles[1]} \\np={p_value:.4f}')\n",
        "plt.show()"
      ]
    },
    {
      "cell_type": "markdown",
      "metadata": {},
      "source": [
        "**RE-CHECK CENTRALITY**"
      ]
    },
    {
      "cell_type": "code",
      "execution_count": 7,
      "metadata": {},
      "outputs": [
        {
          "data": {
            "text/plain": [
              "dict_keys([361, 288, 9, 604, 439, 117, 717, 153, 212, 515, 670, 411, 636, 338, 407, 116, 190, 25, 802, 314, 730, 65, 101, 435, 698, 767, 375, 289, 216, 358, 50, 632, 772, 152, 684, 230, 810, 540, 607, 69, 696, 679, 284, 573, 242, 363, 731, 737, 221, 32, 402, 464, 766, 774, 83])"
            ]
          },
          "execution_count": 7,
          "metadata": {},
          "output_type": "execute_result"
        }
      ],
      "source": [
        "mappings['assemblies_by_connectome_index'].keys()"
      ]
    },
    {
      "cell_type": "markdown",
      "metadata": {},
      "source": [
        "To check if the indexes from cell table assemblies check in for loops: \"for idx, out_cent, conn_idx in zip(cell_table['assembly_id'], cell_table['indegree_centrality'], cell_table['connectome_index'])\" are matching in mappings"
      ]
    },
    {
      "cell_type": "code",
      "execution_count": 166,
      "metadata": {},
      "outputs": [],
      "source": [
        "check_index = []\n",
        "for i, cell in enumerate(cell_table['assembly_id']):\n",
        "    if cell != []:\n",
        "     check_index.append((cell_table['connectome_index'][i]))"
      ]
    },
    {
      "cell_type": "code",
      "execution_count": 167,
      "metadata": {},
      "outputs": [],
      "source": [
        "#for betweenness centrality\n",
        "for i, val in enumerate(idx_check_assembly_BC):\n",
        "    if val not in mappings['assemblies_by_connectome_index'].keys():  #checked for both \"in\" and  \"not in\"\n",
        "        print(i, val)\n",
        "\n",
        "for i, val in enumerate(idx_check_non_assembly_BC):\n",
        "    if val not in mappings['assemblies_by_connectome_index'].keys():\n",
        "        print(i, val)"
      ]
    },
    {
      "cell_type": "code",
      "execution_count": 168,
      "metadata": {},
      "outputs": [
        {
          "name": "stdout",
          "output_type": "stream",
          "text": [
            "0 9\n",
            "1 25\n",
            "2 50\n",
            "3 65\n",
            "4 69\n",
            "5 101\n",
            "6 116\n",
            "7 117\n",
            "8 152\n",
            "9 153\n",
            "10 190\n",
            "11 212\n",
            "12 216\n",
            "13 230\n",
            "14 284\n",
            "15 288\n",
            "16 289\n",
            "17 314\n",
            "18 338\n",
            "19 358\n",
            "20 361\n",
            "21 375\n",
            "22 407\n",
            "23 411\n",
            "24 435\n",
            "25 439\n",
            "26 515\n",
            "27 540\n",
            "28 604\n",
            "29 607\n",
            "30 632\n",
            "31 636\n",
            "32 670\n",
            "33 679\n",
            "34 684\n",
            "35 696\n",
            "36 698\n",
            "37 717\n",
            "38 730\n",
            "39 767\n",
            "40 772\n",
            "41 802\n",
            "42 810\n",
            "0 32\n",
            "1 83\n",
            "2 221\n",
            "3 242\n",
            "4 363\n",
            "5 402\n",
            "6 464\n",
            "7 573\n",
            "8 731\n",
            "9 737\n",
            "10 766\n",
            "11 774\n"
          ]
        }
      ],
      "source": [
        "#for outdegree centrality\n",
        "for i, val in enumerate(idx_check_assembly_OD):\n",
        "    if val in mappings['assemblies_by_connectome_index'].keys():\n",
        "        print(i, val)\n",
        "\n",
        "for i, val in enumerate(idx_check_non_assembly_OD):\n",
        "    if val in mappings['assemblies_by_connectome_index'].keys():\n",
        "        print(i, val)"
      ]
    },
    {
      "cell_type": "code",
      "execution_count": 101,
      "metadata": {},
      "outputs": [],
      "source": [
        "mappings['connectome_indexes_by_assembly']['No A'].sort()"
      ]
    },
    {
      "cell_type": "code",
      "execution_count": 104,
      "metadata": {},
      "outputs": [
        {
          "data": {
            "text/plain": [
              "[32, 83, 221, 242, 363, 402, 464, 573, 731, 737, 766, 774]"
            ]
          },
          "execution_count": 104,
          "metadata": {},
          "output_type": "execute_result"
        }
      ],
      "source": [
        "mappings['connectome_indexes_by_assembly']['No A']"
      ]
    },
    {
      "cell_type": "markdown",
      "metadata": {},
      "source": [
        "Checks without adding the assembly id's to cell_table"
      ]
    },
    {
      "cell_type": "code",
      "execution_count": 170,
      "metadata": {},
      "outputs": [],
      "source": [
        "bet_cent_assembly_check = []\n",
        "bet_cent_non_assembly_check = []\n",
        "for idx, cent in zip(cell_table['connectome_index'], cell_table['betweeness_centrality']):  #note- check the exact functionality of ZIP function\n",
        "    if idx in mappings['assemblies_by_connectome_index'].keys():\n",
        "        if mappings['assemblies_by_connectome_index'][idx] == ['No A']:\n",
        "            bet_cent_non_assembly_check.append(cent)\n",
        "        if mappings['assemblies_by_connectome_index'][idx] != ['No A']:\n",
        "            bet_cent_assembly_check.append(cent)"
      ]
    },
    {
      "cell_type": "code",
      "execution_count": 171,
      "metadata": {},
      "outputs": [
        {
          "data": {
            "image/png": "[encoded data removed]",
            "text/plain": [
              "<Figure size 1000x700 with 1 Axes>"
            ]
          },
          "metadata": {},
          "output_type": "display_data"
        }
      ],
      "source": [
        "#-----------------------------plot for closeness centrality ----------------------------------\n",
        "data = [bet_cent_assembly_check, bet_cent_non_assembly_check]\n",
        "\n",
        "stat, p_value = ranksums(bet_cent_assembly_check,bet_cent_non_assembly_check, 'greater')\n",
        "titles = ['Betweeness_Centrality_assembly_cells', 'Betweenness_Centrality_Non_assembly_cells']\n",
        "\n",
        "fig = plt.figure(figsize =(10, 7))\n",
        "\n",
        "# Creating axes instance\n",
        "ax = fig.add_axes([0, 0, 1, 1])\n",
        "\n",
        "# Creating plot\n",
        "bp = ax.boxplot(data)\n",
        "\n",
        "# show plot\n",
        "ax.set_xticklabels(titles)\n",
        "\n",
        "# Set the x-axis label\n",
        "plt.xlabel('Bet. Centrality check')\n",
        "plt.title(f'{titles[0]} vs {titles[1]} \\np={p_value:.4f}')\n",
        "plt.show()"
      ]
    },
    {
      "cell_type": "code",
      "execution_count": 172,
      "metadata": {},
      "outputs": [],
      "source": [
        "out_cent_assembly_check = []\n",
        "out_cent_non_assembly_check = []\n",
        "for idx, cent in zip(cell_table['connectome_index'], cell_table['outdegree_centrality']):  #note- check the exact functionality of ZIP function\n",
        "    if idx in mappings['assemblies_by_connectome_index'].keys():\n",
        "        if mappings['assemblies_by_connectome_index'][idx] == ['No A']:\n",
        "            out_cent_non_assembly_check.append(cent)\n",
        "        if mappings['assemblies_by_connectome_index'][idx] != ['No A']:\n",
        "            out_cent_assembly_check.append(cent)"
      ]
    },
    {
      "cell_type": "code",
      "execution_count": 173,
      "metadata": {},
      "outputs": [
        {
          "data": {
            "image/png": "[encoded data removed]",
            "text/plain": [
              "<Figure size 1000x700 with 1 Axes>"
            ]
          },
          "metadata": {},
          "output_type": "display_data"
        }
      ],
      "source": [
        "#-----------------------------plot for closeness centrality ----------------------------------\n",
        "data = [out_cent_assembly_check, out_cent_non_assembly_check]\n",
        "\n",
        "stat, p_value = ranksums(out_cent_assembly_check,out_cent_non_assembly_check, 'greater')\n",
        "titles = ['Outdegree_Centrality_assembly_cells', 'Outdegree_Centrality_Non_assembly_cells']\n",
        "\n",
        "fig = plt.figure(figsize =(10, 7))\n",
        "\n",
        "# Creating axes instance\n",
        "ax = fig.add_axes([0, 0, 1, 1])\n",
        "\n",
        "# Creating plot\n",
        "bp = ax.boxplot(data)\n",
        "\n",
        "# show plot\n",
        "ax.set_xticklabels(titles)\n",
        "\n",
        "# Set the x-axis label\n",
        "plt.xlabel('Centrality check')\n",
        "plt.title(f'{titles[0]} vs {titles[1]} \\np={p_value:.4f}')\n",
        "plt.show()"
      ]
    },
    {
      "cell_type": "code",
      "execution_count": null,
      "metadata": {},
      "outputs": [],
      "source": []
    }
  ],
  "metadata": {
    "colab": {
      "provenance": []
    },
    "kernelspec": {
      "display_name": "Python 3",
      "name": "python3"
    },
    "language_info": {
      "codemirror_mode": {
        "name": "ipython",
        "version": 3
      },
      "file_extension": ".py",
      "mimetype": "text/x-python",
      "name": "python",
      "nbconvert_exporter": "python",
      "pygments_lexer": "ipython3",
      "version": "3.10.13"
    }
  },
  "nbformat": 4,
  "nbformat_minor": 0
}
