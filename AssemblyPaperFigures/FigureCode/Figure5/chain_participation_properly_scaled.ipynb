{
 "cells": [
  {
   "cell_type": "code",
   "execution_count": 1,
   "metadata": {},
   "outputs": [
    {
     "name": "stdout",
     "output_type": "stream",
     "text": [
      "Intel MKL WARNING: Support of Intel(R) Streaming SIMD Extensions 4.2 (Intel(R) SSE4.2) enabled only processors has been deprecated. Intel oneAPI Math Kernel Library 2025.0 will require Intel(R) Advanced Vector Extensions (Intel(R) AVX) instructions.\n",
      "Intel MKL WARNING: Support of Intel(R) Streaming SIMD Extensions 4.2 (Intel(R) SSE4.2) enabled only processors has been deprecated. Intel oneAPI Math Kernel Library 2025.0 will require Intel(R) Advanced Vector Extensions (Intel(R) AVX) instructions.\n",
      "Generating Connectome...\n"
     ]
    },
    {
     "name": "stderr",
     "output_type": "stream",
     "text": [
      "100%|██████████| 4565/4565 [00:00<00:00, 15735.74it/s]\n"
     ]
    },
    {
     "name": "stdout",
     "output_type": "stream",
     "text": [
      "Generating Connectome...\n"
     ]
    },
    {
     "name": "stderr",
     "output_type": "stream",
     "text": [
      "100%|██████████| 4565/4565 [00:00<00:00, 11874.88it/s]\n",
      "100%|██████████| 3978/3978 [00:00<00:00, 2035990.40it/s]\n",
      "100%|██████████| 34310/34310 [00:00<00:00, 397083.32it/s]\n",
      "100%|██████████| 309885/309885 [00:00<00:00, 1202685.55it/s]\n"
     ]
    }
   ],
   "source": [
    "import numpy as np\n",
    "import networkx as nx\n",
    "from dotmotif import Motif, GrandIsoExecutor\n",
    "import matplotlib.pyplot as plt\n",
    "from scipy.stats import ranksums\n",
    "import statsmodels.stats.multitest as smm\n",
    "from lsmm_data import LSMMData\n",
    "import json\n",
    "from tqdm import tqdm\n",
    "\n",
    "with open('pyr_chains.json') as f:\n",
    "    loaded_json = json.load(f)\n",
    "my_data = LSMMData.LSMMData(loaded_json)\n",
    "data_a = my_data.data\n",
    "params_a = my_data.params\n",
    "dirs_a = my_data.dirs\n",
    "mappings_a = my_data.mappings\n",
    "\n",
    "# with open('pyr_chains_no_a.json') as f:\n",
    "#     loaded_json = json.load(f)\n",
    "# my_data_no_a = LSMMData.LSMMData(loaded_json)\n",
    "# data_no_a = my_data_no_a.data\n",
    "# params_no_a = my_data_no_a.params\n",
    "# dirs_no_a = my_data_no_a.dirs\n",
    "# mappings_no_a = my_data_no_a.mappings\n",
    " \n",
    "\n",
    "# Generate the chain results\n",
    "# Assembly chain results (no no-a cells exist in their graph)\n",
    "# Make a graph of just excitatory cells\n",
    "cell_table = data_a['structural']['pre_cell'].copy()\n",
    "cell_table['connectome_index'] = cell_table.index\n",
    "synapse_table = data_a['structural']['synapse']\n",
    "adjacency_matrix = data_a['structural']['binary_connectome']\n",
    "pyr_graph = nx.from_numpy_array(adjacency_matrix, create_using=nx.DiGraph)\n",
    "\n",
    "# Motif Analysis with DotMotif: 2 Chain, All Pyr\n",
    "executor = GrandIsoExecutor(graph=pyr_graph)\n",
    "chain_defs = Motif(\"\"\"\n",
    "                A -> B\n",
    "              \"\"\")\n",
    "\n",
    "chain_results = executor.find(chain_defs)\n",
    "two_chain_results_array = np.array([list(c.values()) for c in tqdm(chain_results)])\n",
    "\n",
    "# Motif Analysis with DotMotif: 3 Chain, All Pyr\n",
    "executor = GrandIsoExecutor(graph=pyr_graph)\n",
    "chain_defs = Motif(\"\"\"\n",
    "                A -> B\n",
    "                B -> C\n",
    "              \"\"\")\n",
    "chain_results = executor.find(chain_defs)\n",
    "three_chain_results_array = np.array([list(c.values()) for c in tqdm(chain_results)])\n",
    "\n",
    "# Motif Analysis with DotMotif: 4 Chain, All Pyr\n",
    "executor = GrandIsoExecutor(graph=pyr_graph)\n",
    "chain_defs = Motif(\"\"\"\n",
    "                A -> B\n",
    "                B -> C\n",
    "                C -> D\n",
    "              \"\"\")\n",
    "chain_results = executor.find(chain_defs)\n",
    "four_chain_results_array = np.array([list(c.values()) for c in tqdm(chain_results)])\n",
    "assembly_chain_results_arrays = [two_chain_results_array, three_chain_results_array, four_chain_results_array]\n",
    "\n",
    "chain_count_string_array = ['pyr_cell_2chain', 'pyr_cell_3chain', 'pyr_cell_4chain']\n",
    "individual_assembly_indexes = [mappings_a['connectome_indexes_by_assembly'][f'A {i}'] for i in range(1,14)]\n",
    "\n",
    "coregistered_cell_indexes = mappings_a['assemblies_by_connectome_index'].keys()\n",
    "no_a_cell_indexes = mappings_a['connectome_indexes_by_assembly']['No A']\n",
    "pooled_assembly_indexes = [list(set(coregistered_cell_indexes) - set(no_a_cell_indexes))]\n",
    "\n",
    "# print('Assembly Root IDs:', list(set(mappings_a['assemblies_by_pt_root_id'].keys()) - set(mappings_a['pt_root_ids_by_assembly']['No A'])))\n",
    "# print('NonAssembly Root IDs:', mappings_a['pt_root_ids_by_assembly']['No A'])\n",
    "\n",
    "scaling_factors_two = [len(individual_assembly_indexes[i])-1 for i in range(13)]\n",
    "scaling_factors_three = [len(individual_assembly_indexes[i])-1 for i in range(13)]\n",
    "scaling_factors_four = [len(individual_assembly_indexes[i])-1 for i in range(13)]\n",
    "scaling_factors_lists = [scaling_factors_two, scaling_factors_three, scaling_factors_four]\n",
    "\n",
    "no_a_scaling_factors_two = len(no_a_cell_indexes)-1\n",
    "no_a_scaling_factors_three = len(no_a_cell_indexes)-1\n",
    "no_a_scaling_factors_four = len(no_a_cell_indexes)-1\n",
    "no_a_scaling_factors = [no_a_scaling_factors_two, no_a_scaling_factors_three, no_a_scaling_factors_four]\n",
    "\n"
   ]
  },
  {
   "cell_type": "code",
   "execution_count": 2,
   "metadata": {},
   "outputs": [
    {
     "name": "stderr",
     "output_type": "stream",
     "text": [
      "100%|██████████| 55/55 [00:00<00:00, 1616.46it/s]\n",
      "100%|██████████| 55/55 [00:00<00:00, 462.19it/s]\n",
      "100%|██████████| 55/55 [00:01<00:00, 53.57it/s]\n"
     ]
    }
   ],
   "source": [
    "# # Intra-Assembly to Intra-Assembly chains, assemblies with 5 or more cells\n",
    "# # with scaling and filtering of no-a cells from assembly chains\n",
    "# # Individual and pooled results.  Assembly and non-assembly.\n",
    "\n",
    "multi_length_chain_participation_by_coregistered_cell_pair = {}\n",
    "\n",
    "for i in range(3):\n",
    "    chain_results_array = assembly_chain_results_arrays[i]\n",
    "    title = chain_count_string_array[i]\n",
    "\n",
    "    # Get chain participation\n",
    "    chain_participation_by_coregistered_cell_pair = {}\n",
    "    for index1 in tqdm(coregistered_cell_indexes):\n",
    "        if index1 not in chain_participation_by_coregistered_cell_pair.keys():\n",
    "                chain_participation_by_coregistered_cell_pair[index1] = {}\n",
    "        if index1 not in multi_length_chain_participation_by_coregistered_cell_pair.keys():\n",
    "                multi_length_chain_participation_by_coregistered_cell_pair[index1] = {}\n",
    "        for index2 in coregistered_cell_indexes:\n",
    "            if index2 not in chain_participation_by_coregistered_cell_pair[index1].keys():\n",
    "                chain_participation_by_coregistered_cell_pair[index1][index2] = 0\n",
    "            if index2 not in multi_length_chain_participation_by_coregistered_cell_pair[index1].keys():\n",
    "                multi_length_chain_participation_by_coregistered_cell_pair[index1][index2] = 0\n",
    "            temp = np.where(np.logical_and(chain_results_array[:,0] == index1, chain_results_array[:,-1] == index2))[0].size\n",
    "            chain_participation_by_coregistered_cell_pair[index1][index2] += temp\n",
    "            multi_length_chain_participation_by_coregistered_cell_pair[index1][index2] += temp\n",
    "\n",
    "\n",
    "# Pool all chain lengths\n",
    "# Pool cells which are in assemblies\n",
    "assembly_allchain_pooled_assembly_cell_participation = []\n",
    "# allchain_pooled_per_item_scaling_factors = []\n",
    "for chain_length_index in range(3):\n",
    "    # scaling_factors = scaling_factors_lists[chain_length_index]\n",
    "    for a_index in [0, 1, 2, 3, 4, 5, 7, 9]:\n",
    "        scaling_factor = scaling_factors_lists[chain_length_index][a_index]\n",
    "        if scaling_factor > 0:\n",
    "            for index in individual_assembly_indexes[a_index]:\n",
    "                for index2 in individual_assembly_indexes[a_index]:            \n",
    "                    assembly_allchain_pooled_assembly_cell_participation.append(multi_length_chain_participation_by_coregistered_cell_pair[index1][index2] / scaling_factor)                         \n",
    "\n",
    "\n",
    "no_a_allchain_pooled_assembly_cell_participation = []\n",
    "# allchain_pooled_per_item_scaling_factors = []\n",
    "for chain_length_index in range(3):\n",
    "    scaling_factor = no_a_scaling_factors[chain_length_index]\n",
    "    if scaling_factor > 0:\n",
    "        for index in no_a_cell_indexes:\n",
    "            for index2 in no_a_cell_indexes:            \n",
    "                no_a_allchain_pooled_assembly_cell_participation.append(multi_length_chain_participation_by_coregistered_cell_pair[index1][index2] / scaling_factor)                         \n",
    "\n"
   ]
  },
  {
   "cell_type": "code",
   "execution_count": 5,
   "metadata": {},
   "outputs": [
    {
     "name": "stdout",
     "output_type": "stream",
     "text": [
      "Wilcoxon Rank Sum Test: \n",
      "\tAll pyr chain lengths, intra-assembly, normalized by possible chains\n",
      "\tvs All pyr chain lengths, intra-nonassembly, normalized by possible chains\n",
      "A vs No A\n",
      "RanksumsResult(statistic=5.122549366281445, pvalue=1.5071607133911634e-07)\n",
      "A: \n",
      "\tMean: 0.12809710865266422\n",
      "\tMedian: 0.1\n",
      "\tSD: 0.18657934800631212\n",
      "No A: \n",
      "\tMean: 0.08333333333333333\n",
      "\tMedian: 0.09090909090909091\n",
      "\tSD: 0.10135672848681555\n"
     ]
    },
    {
     "data": {
      "text/plain": [
       "{'whiskers': [<matplotlib.lines.Line2D at 0x7fb5ec8766b0>,\n",
       "  <matplotlib.lines.Line2D at 0x7fb5ec876950>,\n",
       "  <matplotlib.lines.Line2D at 0x7fb5ec877910>,\n",
       "  <matplotlib.lines.Line2D at 0x7fb5ec877bb0>],\n",
       " 'caps': [<matplotlib.lines.Line2D at 0x7fb5ec876bf0>,\n",
       "  <matplotlib.lines.Line2D at 0x7fb5ec876e90>,\n",
       "  <matplotlib.lines.Line2D at 0x7fb5ec877e50>,\n",
       "  <matplotlib.lines.Line2D at 0x7fb5ec890130>],\n",
       " 'boxes': [<matplotlib.lines.Line2D at 0x7fb5ec876410>,\n",
       "  <matplotlib.lines.Line2D at 0x7fb5ec877670>],\n",
       " 'medians': [<matplotlib.lines.Line2D at 0x7fb5ec877130>,\n",
       "  <matplotlib.lines.Line2D at 0x7fb5ec8903d0>],\n",
       " 'fliers': [<matplotlib.lines.Line2D at 0x7fb5ec8773d0>,\n",
       "  <matplotlib.lines.Line2D at 0x7fb5ec890670>],\n",
       " 'means': []}"
      ]
     },
     "execution_count": 5,
     "metadata": {},
     "output_type": "execute_result"
    },
    {
     "data": {
      "image/png": "[encoded data removed]",
      "text/plain": [
       "<Figure size 640x480 with 1 Axes>"
      ]
     },
     "metadata": {},
     "output_type": "display_data"
    }
   ],
   "source": [
    "# Now Compare the two\n",
    "assembly_allchain_pooled_assembly_cell_participation\n",
    "no_a_allchain_pooled_assembly_cell_participation\n",
    "\n",
    "import scipy.stats as stats\n",
    "\n",
    "# Perform Wilcoxon Rank Sum Test\n",
    "print(f'Wilcoxon Rank Sum Test: \\n\\tAll pyr chain lengths, intra-assembly, normalized by possible chains\\n\\tvs All pyr chain lengths, intra-nonassembly, normalized by possible chains')\n",
    "print('A vs No A')\n",
    "print(stats.ranksums(assembly_allchain_pooled_assembly_cell_participation, no_a_allchain_pooled_assembly_cell_participation, alternative='greater'))\n",
    "\n",
    "print(f\"A: \\n\\tMean: {np.mean(assembly_allchain_pooled_assembly_cell_participation)}\\n\\tMedian: {np.median(assembly_allchain_pooled_assembly_cell_participation)}\\n\\tSD: {np.std(assembly_allchain_pooled_assembly_cell_participation)}\")\n",
    "print(f\"No A: \\n\\tMean: {np.mean(no_a_allchain_pooled_assembly_cell_participation)}\\n\\tMedian: {np.median(no_a_allchain_pooled_assembly_cell_participation)}\\n\\tSD: {np.std(no_a_allchain_pooled_assembly_cell_participation)}\")\n",
    "\n",
    "plt.figure()\n",
    "plt.box\n",
    "plt.boxplot([assembly_allchain_pooled_assembly_cell_participation, no_a_allchain_pooled_assembly_cell_participation])\n",
    "#plt.savefig(f'chains/pyr_all_chain_lengths_intra_pooled.png')\n"
   ]
  }
 ],
 "metadata": {
  "kernelspec": {
   "display_name": "stat_conn_jax",
   "language": "python",
   "name": "python3"
  },
  "language_info": {
   "codemirror_mode": {
    "name": "ipython",
    "version": 3
   },
   "file_extension": ".py",
   "mimetype": "text/x-python",
   "name": "python",
   "nbconvert_exporter": "python",
   "pygments_lexer": "ipython3",
   "version": "3.10.13"
  }
 },
 "nbformat": 4,
 "nbformat_minor": 2
}
