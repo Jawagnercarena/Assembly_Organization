{
 "cells": [
  {
   "cell_type": "code",
   "execution_count": 1,
   "metadata": {},
   "outputs": [
    {
     "name": "stderr",
     "output_type": "stream",
     "text": [
      "c:\\Users\\saika\\anaconda3\\lib\\site-packages\\pandas\\core\\computation\\expressions.py:21: UserWarning: Pandas requires version '2.8.4' or newer of 'numexpr' (version '2.8.3' currently installed).\n",
      "  from pandas.core.computation.check import NUMEXPR_INSTALLED\n",
      "c:\\Users\\saika\\anaconda3\\lib\\site-packages\\pandas\\core\\arrays\\masked.py:60: UserWarning: Pandas requires version '1.3.6' or newer of 'bottleneck' (version '1.3.5' currently installed).\n",
      "  from pandas.core import (\n"
     ]
    }
   ],
   "source": [
    "import numpy as np\n",
    "import networkx as nx\n",
    "from dotmotif import Motif, GrandIsoExecutor\n",
    "import pandas\n",
    "from tqdm import tqdm\n",
    "import pickle\n",
    "import matplotlib.pyplot as plt\n",
    "from scipy.stats import ranksums\n",
    "import statsmodels.stats.multitest as smm\n"
   ]
  },
  {
   "cell_type": "code",
   "execution_count": 3,
   "metadata": {},
   "outputs": [],
   "source": [
    "import sys \n",
    "sys.path.append(\"C://Users//saika//Downloads//Assembly_paper\")"
   ]
  },
  {
   "cell_type": "code",
   "execution_count": 2,
   "metadata": {},
   "outputs": [
    {
     "name": "stdout",
     "output_type": "stream",
     "text": [
      "Generating Connectome...\n"
     ]
    },
    {
     "name": "stderr",
     "output_type": "stream",
     "text": [
      "100%|██████████| 137706/137706 [02:55<00:00, 783.63it/s]\n"
     ]
    },
    {
     "name": "stdout",
     "output_type": "stream",
     "text": [
      "Generating Connectome...\n"
     ]
    },
    {
     "name": "stderr",
     "output_type": "stream",
     "text": [
      "100%|██████████| 137706/137706 [03:21<00:00, 682.37it/s]\n"
     ]
    },
    {
     "name": "stdout",
     "output_type": "stream",
     "text": [
      "     index      id          pt_root_id  pt_position_x  pt_position_y  \\\n",
      "0        9  293764  864691132625300120         878665         697702   \n",
      "1       41  295576  864691132710501931         842193         737122   \n",
      "2       62  278405  864691132830575876         737898         601710   \n",
      "3       76  293733  864691132616354625         858877         700030   \n",
      "4       85  307952  864691132999200949         867646         840563   \n",
      "..     ...     ...                 ...            ...            ...   \n",
      "847   8764  371302  864691132849454803         958050         629957   \n",
      "848   8769  385115  864691132679146333         975354         850418   \n",
      "849   8773  383491  864691132763271347         928872         797418   \n",
      "850   8790  351167  864691132579592205         927863         548865   \n",
      "851   8794  277788  864691132653866455         853833         547235   \n",
      "\n",
      "     pt_position_z classification_system cell_type status_axon  \\\n",
      "0           245475            excitatory        4P    extended   \n",
      "1           325260            inhibitory    ProxTC    extended   \n",
      "2           294075            inhibitory    DistTC    extended   \n",
      "3           240210            inhibitory     InhTC    extended   \n",
      "4           262935            excitatory        5P    extended   \n",
      "..             ...                   ...       ...         ...   \n",
      "847         382545            inhibitory    ProxTC    extended   \n",
      "848         394650            excitatory        6P    extended   \n",
      "849         316125            excitatory        5P    extended   \n",
      "850         192105            inhibitory    ProxTC    extended   \n",
      "851         263385            excitatory        3P    extended   \n",
      "\n",
      "     pt_position_x_trafo  ...       dist_pia      dist_1-23      dist_23-4  \\\n",
      "0          -17654.153169  ...  348299.261582  248299.261582   78299.261582   \n",
      "1          -67856.489452  ...  407818.941194  307818.941194  137818.941194   \n",
      "2         -145995.980100  ...  269521.726886  169521.726886     478.273114   \n",
      "3          -37633.019997  ...  349231.413669  249231.413669   79231.413669   \n",
      "4          -69027.465946  ...  490673.563262  390673.563262  220673.563262   \n",
      "..                   ...  ...            ...            ...            ...   \n",
      "847         67043.559779  ...  319323.746587  219323.746587   49323.746587   \n",
      "848         17544.597851  ...  534890.730711  434890.730711  264890.730711   \n",
      "849          3578.299784  ...  463037.004450  363037.004450  193037.004450   \n",
      "850         51726.443534  ...  190364.527692   90364.527692   79635.472308   \n",
      "851        -23541.351541  ...  208243.082354  108243.082354   61756.917646   \n",
      "\n",
      "          dist_4-5       dist_5-6        dist_WM  full_dendrite  cell_type_v2  \\\n",
      "0     51700.738418  201700.738418  401700.738418           True            4P   \n",
      "1      7818.941194  142181.058806  342181.058806           True     ProxTC-L5   \n",
      "2    130478.273114  280478.273114  480478.273114           True    DistTC-L23   \n",
      "3     50768.586331  200768.586331  400768.586331           True      InhTC-L4   \n",
      "4     90673.563262   59326.436738  259326.436738           True            5P   \n",
      "..             ...            ...            ...            ...           ...   \n",
      "847   80676.253413  230676.253413  430676.253413           True     ProxTC-L4   \n",
      "848  134890.730711   15109.269289  215109.269289           True            6P   \n",
      "849   63037.004450   86962.995550  286962.995550           True            5P   \n",
      "850  209635.472308  359635.472308  559635.472308          False    ProxTC-L23   \n",
      "851  191756.917646  341756.917646  541756.917646          False            3P   \n",
      "\n",
      "     connectome_index               pt_position  \n",
      "0                   0  [878665, 697702, 245475]  \n",
      "1                   1  [842193, 737122, 325260]  \n",
      "2                   2  [737898, 601710, 294075]  \n",
      "3                   3  [858877, 700030, 240210]  \n",
      "4                   4  [867646, 840563, 262935]  \n",
      "..                ...                       ...  \n",
      "847               847  [958050, 629957, 382545]  \n",
      "848               848  [975354, 850418, 394650]  \n",
      "849               849  [928872, 797418, 316125]  \n",
      "850               850  [927863, 548865, 192105]  \n",
      "851               851  [853833, 547235, 263385]  \n",
      "\n",
      "[852 rows x 23 columns]\n",
      "     index      id          pt_root_id  pt_position_x  pt_position_y  \\\n",
      "0        9  293764  864691132625300120         878665         697702   \n",
      "1       41  295576  864691132710501931         842193         737122   \n",
      "2       62  278405  864691132830575876         737898         601710   \n",
      "3       76  293733  864691132616354625         858877         700030   \n",
      "4       85  307952  864691132999200949         867646         840563   \n",
      "..     ...     ...                 ...            ...            ...   \n",
      "847   8764  371302  864691132849454803         958050         629957   \n",
      "848   8769  385115  864691132679146333         975354         850418   \n",
      "849   8773  383491  864691132763271347         928872         797418   \n",
      "850   8790  351167  864691132579592205         927863         548865   \n",
      "851   8794  277788  864691132653866455         853833         547235   \n",
      "\n",
      "     pt_position_z classification_system cell_type status_axon  \\\n",
      "0           245475            excitatory        4P    extended   \n",
      "1           325260            inhibitory    ProxTC    extended   \n",
      "2           294075            inhibitory    DistTC    extended   \n",
      "3           240210            inhibitory     InhTC    extended   \n",
      "4           262935            excitatory        5P    extended   \n",
      "..             ...                   ...       ...         ...   \n",
      "847         382545            inhibitory    ProxTC    extended   \n",
      "848         394650            excitatory        6P    extended   \n",
      "849         316125            excitatory        5P    extended   \n",
      "850         192105            inhibitory    ProxTC    extended   \n",
      "851         263385            excitatory        3P    extended   \n",
      "\n",
      "     pt_position_x_trafo  ...       dist_pia      dist_1-23      dist_23-4  \\\n",
      "0          -17654.153169  ...  348299.261582  248299.261582   78299.261582   \n",
      "1          -67856.489452  ...  407818.941194  307818.941194  137818.941194   \n",
      "2         -145995.980100  ...  269521.726886  169521.726886     478.273114   \n",
      "3          -37633.019997  ...  349231.413669  249231.413669   79231.413669   \n",
      "4          -69027.465946  ...  490673.563262  390673.563262  220673.563262   \n",
      "..                   ...  ...            ...            ...            ...   \n",
      "847         67043.559779  ...  319323.746587  219323.746587   49323.746587   \n",
      "848         17544.597851  ...  534890.730711  434890.730711  264890.730711   \n",
      "849          3578.299784  ...  463037.004450  363037.004450  193037.004450   \n",
      "850         51726.443534  ...  190364.527692   90364.527692   79635.472308   \n",
      "851        -23541.351541  ...  208243.082354  108243.082354   61756.917646   \n",
      "\n",
      "          dist_4-5       dist_5-6        dist_WM  full_dendrite  cell_type_v2  \\\n",
      "0     51700.738418  201700.738418  401700.738418           True            4P   \n",
      "1      7818.941194  142181.058806  342181.058806           True     ProxTC-L5   \n",
      "2    130478.273114  280478.273114  480478.273114           True    DistTC-L23   \n",
      "3     50768.586331  200768.586331  400768.586331           True      InhTC-L4   \n",
      "4     90673.563262   59326.436738  259326.436738           True            5P   \n",
      "..             ...            ...            ...            ...           ...   \n",
      "847   80676.253413  230676.253413  430676.253413           True     ProxTC-L4   \n",
      "848  134890.730711   15109.269289  215109.269289           True            6P   \n",
      "849   63037.004450   86962.995550  286962.995550           True            5P   \n",
      "850  209635.472308  359635.472308  559635.472308          False    ProxTC-L23   \n",
      "851  191756.917646  341756.917646  541756.917646          False            3P   \n",
      "\n",
      "     connectome_index               pt_position  \n",
      "0                   0  [878665, 697702, 245475]  \n",
      "1                   1  [842193, 737122, 325260]  \n",
      "2                   2  [737898, 601710, 294075]  \n",
      "3                   3  [858877, 700030, 240210]  \n",
      "4                   4  [867646, 840563, 262935]  \n",
      "..                ...                       ...  \n",
      "847               847  [958050, 629957, 382545]  \n",
      "848               848  [975354, 850418, 394650]  \n",
      "849               849  [928872, 797418, 316125]  \n",
      "850               850  [927863, 548865, 192105]  \n",
      "851               851  [853833, 547235, 263385]  \n",
      "\n",
      "[852 rows x 23 columns]\n",
      "               id      pre_pt_root_id     post_pt_root_id  pt_position_x  \\\n",
      "0       436055868  864691132786109590  864691132834616200       880624.2   \n",
      "1       408548453  864691132862626797  864691132669252909       829272.4   \n",
      "2       488224854  864691132719308787  864691132658062711       946215.6   \n",
      "3       443055914  864691132930586344  864691132710459649       866471.9   \n",
      "4       436942082  864691132930586344  864691132710459649       871574.1   \n",
      "...           ...                 ...                 ...            ...   \n",
      "137701  419266844  864691132772499069  864691132719232755       859827.4   \n",
      "137702  409440131  864691133070175177  864691132849077459       840747.5   \n",
      "137703  478179055  864691132729807744  864691132719232755       937728.1   \n",
      "137704  533199500  864691132807552514  864691132803126118      1013902.2   \n",
      "137705  486933618  864691132729807744  864691132719232755       954596.4   \n",
      "\n",
      "        pt_position_y  pt_position_z  size  pt_position_x_trafo  \\\n",
      "0            557720.9       223020.0   276          3340.583116   \n",
      "1            550562.3       258570.0   537        -48250.119643   \n",
      "2            713638.7       283860.0  1056         44270.154023   \n",
      "3            920588.2       373950.0   269       -119327.920431   \n",
      "4            909084.0       361980.0   510       -107774.055379   \n",
      "...               ...            ...   ...                  ...   \n",
      "137701       738499.8       371160.0   452        -53500.991472   \n",
      "137702       605231.5       246285.0   855        -41825.350705   \n",
      "137703       737316.4       327645.0  1453         27594.594993   \n",
      "137704       748723.6       288900.0  1710        103739.657587   \n",
      "137705       722785.8       334800.0  1048         47342.609751   \n",
      "\n",
      "        pt_position_y_trafo  pt_position_z_trafo  \\\n",
      "0             212017.398504        -42633.912889   \n",
      "1             214934.217395         -6060.653512   \n",
      "2             380604.148771        -19380.664885   \n",
      "3             623175.163572        -15290.301397   \n",
      "4             607310.494324        -21665.072135   \n",
      "...                     ...                  ...   \n",
      "137701        429763.417621         56431.681242   \n",
      "137702        264781.496171        -28013.062838   \n",
      "137703        416189.841024         15305.215351   \n",
      "137704        416437.175574        -25035.896752   \n",
      "137705        403662.235048         26516.613783   \n",
      "\n",
      "                                          ctr_pt_position  \n",
      "0       [3340.5831162707323, 212017.39850379777, -4263...  \n",
      "1       [-48250.11964345754, 214934.21739500464, -6060...  \n",
      "2       [44270.15402258008, 380604.14877074107, -19380...  \n",
      "3       [-119327.92043110261, 623175.1635720987, -1529...  \n",
      "4       [-107774.05537912386, 607310.4943239368, -2166...  \n",
      "...                                                   ...  \n",
      "137701  [-53500.99147219691, 429763.41762082605, 56431...  \n",
      "137702  [-41825.3507050108, 264781.4961708535, -28013....  \n",
      "137703  [27594.59499325647, 416189.84102367156, 15305....  \n",
      "137704  [103739.65758734028, 416437.1755735607, -25035...  \n",
      "137705  [47342.60975145605, 403662.2350479938, 26516.6...  \n",
      "\n",
      "[137706 rows x 11 columns]\n"
     ]
    }
   ],
   "source": [
    "from lsmm_data import LSMMData\n",
    "import json\n",
    "\n",
    "with open('v1dd_data_structures_information.json') as f:\n",
    "    loaded_json = json.load(f)\n",
    "my_data = LSMMData.LSMMData(loaded_json)\n",
    "tables = my_data.data\n",
    "params = my_data.params\n",
    "dirs = my_data.dirs\n",
    "mappings = my_data.mappings\n",
    " \n",
    "print(tables['structural']['pre_cell'])\n",
    "print(tables['structural']['post_cell'])\n",
    "print(tables['structural']['synapse'])\n",
    " \n",
    "pt_root_id = tables['structural']['pre_cell'].iloc[1]['pt_root_id']\n",
    "#print(\"Connectome Index.  Should be 41:\", mappings['pt_root_id_to_connectome_index'][pt_root_id])"
   ]
  },
  {
   "cell_type": "code",
   "execution_count": 3,
   "metadata": {},
   "outputs": [],
   "source": [
    "'''---------------------When using LSMM-------------------------------------'''\n",
    "cell_table = tables['structural']['pre_cell']\n",
    "\n",
    "weight_matrix = tables['structural']['summed_size_connectome']"
   ]
  },
  {
   "cell_type": "code",
   "execution_count": 4,
   "metadata": {},
   "outputs": [
    {
     "data": {
      "text/plain": [
       "(-34745.30939045572, 361853.0747079696, -19676.265935433912)"
      ]
     },
     "execution_count": 4,
     "metadata": {},
     "output_type": "execute_result"
    }
   ],
   "source": [
    "x_pos = np.mean(cell_table['pt_position_x_trafo'])   # Centroid of the graph - cartesian co-ordinates system hence, centroid = mean\n",
    "y_pos = np.mean(cell_table['pt_position_y_trafo'])\n",
    "z_pos = np.mean(cell_table['pt_position_z_trafo'])\n",
    "cent_dist_no_a = []\n",
    "cent_dist_a = []\n",
    "\n",
    "x_pos, y_pos, z_pos"
   ]
  },
  {
   "cell_type": "code",
   "execution_count": 11,
   "metadata": {},
   "outputs": [],
   "source": [
    "import math \n",
    "for cell in mappings['assemblies_by_connectome_index']:\n",
    "    if mappings['assemblies_by_connectome_index'][cell] == ['No A']:\n",
    "        cent_dist_no_a.append( np.linalg.norm([cell_table['pt_position_x_trafo'][cell] -  x_pos, cell_table['pt_position_y_trafo'][cell] - y_pos], axis = 0))\n",
    "    else:\n",
    "        cent_dist_a.append(np.linalg.norm([cell_table['pt_position_x_trafo'][cell] - x_pos, cell_table['pt_position_y_trafo'][cell] -  y_pos], axis = 0))"
   ]
  },
  {
   "cell_type": "code",
   "execution_count": 31,
   "metadata": {},
   "outputs": [
    {
     "data": {
      "image/png": "[encoded data removed]",
      "text/plain": [
       "<Figure size 640x480 with 1 Axes>"
      ]
     },
     "metadata": {},
     "output_type": "display_data"
    },
    {
     "name": "stdout",
     "output_type": "stream",
     "text": [
      "distance from centroid : 0.27898411139327395\n"
     ]
    }
   ],
   "source": [
    "import scipy\n",
    "import ptitprince as pt\n",
    "import random\n",
    "import numpy as np\n",
    "import pandas as pd\n",
    "import json\n",
    "from tqdm import tqdm\n",
    "from scipy import stats\n",
    "import seaborn as sns\n",
    "\n",
    "\n",
    "light_blue = sns.color_palette(\"deep\")[0]\n",
    "\n",
    "# Boxplot\n",
    "fig, ax = plt.subplots()\n",
    "bp = ax.boxplot([cent_dist_a, cent_dist_no_a], patch_artist=True)\n",
    "\n",
    "# Apply color\n",
    "for box in bp['boxes']:\n",
    "    box.set(facecolor=light_blue)\n",
    "\n",
    "# Set median color to black\n",
    "for median in bp['medians']:\n",
    "    median.set(color='black', linewidth=1)\n",
    "\n",
    "[stat, p_val]= scipy.stats.ranksums(cent_dist_a, cent_dist_no_a)\n",
    "\n",
    "plt.xticks([1, 2], ['Assembly cells', 'Non assembly cells'])\n",
    "plt.ylabel(r\"Distance from centroid in nm\")\n",
    "plt.suptitle(\"Distance from centroid for assembly vs. non-assembly\")\n",
    "plt.title(f\"Ranksums P-Value: {p_val: 0.4f}\")\n",
    "plt.show()\n",
    "\n",
    "\n",
    "print(\"distance from centroid :\", p_val)"
   ]
  },
  {
   "cell_type": "code",
   "execution_count": null,
   "metadata": {},
   "outputs": [],
   "source": []
  }
 ],
 "metadata": {
  "kernelspec": {
   "display_name": "base",
   "language": "python",
   "name": "python3"
  },
  "language_info": {
   "codemirror_mode": {
    "name": "ipython",
    "version": 3
   },
   "file_extension": ".py",
   "mimetype": "text/x-python",
   "name": "python",
   "nbconvert_exporter": "python",
   "pygments_lexer": "ipython3",
   "version": "3.9.13"
  }
 },
 "nbformat": 4,
 "nbformat_minor": 2
}
